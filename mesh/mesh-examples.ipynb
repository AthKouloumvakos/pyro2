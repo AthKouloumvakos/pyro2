{
 "metadata": {
  "name": "",
  "signature": "sha256:589333b2476e1c90060717b76a8f4c07dbbfedc6d1fd313619e9ee855f8c7034"
 },
 "nbformat": 3,
 "nbformat_minor": 0,
 "worksheets": [
  {
   "cells": [
    {
     "cell_type": "heading",
     "level": 1,
     "metadata": {},
     "source": [
      "Mesh Basics"
     ]
    },
    {
     "cell_type": "raw",
     "metadata": {},
     "source": [
      "this notebook illustrates the basic ways of interacting with the pyro2 mesh module.  We create some data that lives on a grid and show how to fill the ghost cells.  The pretty_print() function shows us that they work as expected."
     ]
    },
    {
     "cell_type": "code",
     "collapsed": false,
     "input": [
      "from __future__ import print_function\n",
      "import numpy as np\n",
      "import mesh.patch as patch"
     ],
     "language": "python",
     "metadata": {},
     "outputs": [],
     "prompt_number": 1
    },
    {
     "cell_type": "raw",
     "metadata": {},
     "source": [
      "create a simple 8x8 grid with 2 ghost cells, then create a dataset that lives on this grid and add a variable named \"a\""
     ]
    },
    {
     "cell_type": "code",
     "collapsed": false,
     "input": [
      "g = patch.Grid2d(8, 8, ng=2)\n",
      "d = patch.CellCenterData2d(g)\n",
      "bc = patch.BCObject(xlb=\"periodic\", xrb=\"periodic\", ylb=\"reflect\", yrb=\"outflow\")\n",
      "d.register_var(\"a\", bc)\n",
      "d.create()"
     ],
     "language": "python",
     "metadata": {},
     "outputs": [],
     "prompt_number": 2
    },
    {
     "cell_type": "code",
     "collapsed": false,
     "input": [
      "print(d)"
     ],
     "language": "python",
     "metadata": {},
     "outputs": [
      {
       "output_type": "stream",
       "stream": "stdout",
       "text": [
        "cc data: nx = 8, ny = 8, ng = 2\n",
        "   nvars = 1\n",
        "   variables: \n",
        "               a: min:    0.0000000000    max:    0.0000000000\n",
        "                  BCs: -x: periodic     +x: periodic     -y: reflect-even +y: outflow     \n",
        "\n"
       ]
      }
     ],
     "prompt_number": 3
    },
    {
     "cell_type": "raw",
     "metadata": {},
     "source": [
      "fill the grid with random data.  get_var() returns an ArrayIndexer object that has methods for accessing views into the data.  Here we use a.v() to get the \"valid\" region, i.e. excluding ghost cells."
     ]
    },
    {
     "cell_type": "code",
     "collapsed": false,
     "input": [
      "a = d.get_var(\"a\")\n",
      "a.v()[:,:] = np.random.rand(g.nx, g.ny)"
     ],
     "language": "python",
     "metadata": {},
     "outputs": [],
     "prompt_number": 4
    },
    {
     "cell_type": "raw",
     "metadata": {},
     "source": [
      "when we pretty_print() the variable, we see the ghost cells colored red.  Note that we just filled the interior above."
     ]
    },
    {
     "cell_type": "code",
     "collapsed": false,
     "input": [
      "a.pretty_print()"
     ],
     "language": "python",
     "metadata": {},
     "outputs": [
      {
       "output_type": "stream",
       "stream": "stdout",
       "text": [
        "\u001b[31m         0\u001b[0m\u001b[31m         0\u001b[0m\u001b[31m         0\u001b[0m\u001b[31m         0\u001b[0m\u001b[31m         0\u001b[0m\u001b[31m         0\u001b[0m\u001b[31m         0\u001b[0m\u001b[31m         0\u001b[0m\u001b[31m         0\u001b[0m\u001b[31m         0\u001b[0m\u001b[31m         0\u001b[0m\u001b[31m         0\u001b[0m \n",
        "\u001b[31m         0\u001b[0m\u001b[31m         0\u001b[0m\u001b[31m         0\u001b[0m\u001b[31m         0\u001b[0m\u001b[31m         0\u001b[0m\u001b[31m         0\u001b[0m\u001b[31m         0\u001b[0m\u001b[31m         0\u001b[0m\u001b[31m         0\u001b[0m\u001b[31m         0\u001b[0m\u001b[31m         0\u001b[0m\u001b[31m         0\u001b[0m \n",
        "\u001b[31m         0\u001b[0m\u001b[31m         0\u001b[0m   0.90355  0.088524   0.58437   0.24561   0.98689   0.72861  0.079487   0.81882\u001b[31m         0\u001b[0m\u001b[31m         0\u001b[0m \n",
        "\u001b[31m         0\u001b[0m\u001b[31m         0\u001b[0m   0.60841   0.70387   0.72768  0.066687   0.84114  0.016395  0.046262   0.33858\u001b[31m         0\u001b[0m\u001b[31m         0\u001b[0m \n",
        "\u001b[31m         0\u001b[0m\u001b[31m         0\u001b[0m   0.22778   0.37001   0.73521   0.32588   0.24679   0.64942   0.12882    0.4223\u001b[31m         0\u001b[0m\u001b[31m         0\u001b[0m \n",
        "\u001b[31m         0\u001b[0m\u001b[31m         0\u001b[0m   0.47855   0.28909   0.11444   0.26778  0.057257   0.72417   0.63133   0.73457\u001b[31m         0\u001b[0m\u001b[31m         0\u001b[0m \n",
        "\u001b[31m         0\u001b[0m\u001b[31m         0\u001b[0m   0.19554   0.85406    0.2332  0.044159   0.92935  0.012833   0.94922   0.45918\u001b[31m         0\u001b[0m\u001b[31m         0\u001b[0m \n",
        "\u001b[31m         0\u001b[0m\u001b[31m         0\u001b[0m   0.61173    0.3895   0.15269   0.84111   0.56427   0.17527   0.23001   0.14878\u001b[31m         0\u001b[0m\u001b[31m         0\u001b[0m \n",
        "\u001b[31m         0\u001b[0m\u001b[31m         0\u001b[0m   0.32262   0.74235   0.49147   0.80387   0.65799   0.67749    0.6218   0.43146\u001b[31m         0\u001b[0m\u001b[31m         0\u001b[0m \n",
        "\u001b[31m         0\u001b[0m\u001b[31m         0\u001b[0m  0.035963   0.44096   0.18963    0.7179      0.29    0.6061   0.57256   0.79617\u001b[31m         0\u001b[0m\u001b[31m         0\u001b[0m \n",
        "\u001b[31m         0\u001b[0m\u001b[31m         0\u001b[0m\u001b[31m         0\u001b[0m\u001b[31m         0\u001b[0m\u001b[31m         0\u001b[0m\u001b[31m         0\u001b[0m\u001b[31m         0\u001b[0m\u001b[31m         0\u001b[0m\u001b[31m         0\u001b[0m\u001b[31m         0\u001b[0m\u001b[31m         0\u001b[0m\u001b[31m         0\u001b[0m \n",
        "\u001b[31m         0\u001b[0m\u001b[31m         0\u001b[0m\u001b[31m         0\u001b[0m\u001b[31m         0\u001b[0m\u001b[31m         0\u001b[0m\u001b[31m         0\u001b[0m\u001b[31m         0\u001b[0m\u001b[31m         0\u001b[0m\u001b[31m         0\u001b[0m\u001b[31m         0\u001b[0m\u001b[31m         0\u001b[0m\u001b[31m         0\u001b[0m \n",
        "\n",
        "         ^ y\n",
        "         |\n",
        "         +---> x\n",
        "        \n"
       ]
      }
     ],
     "prompt_number": 5
    },
    {
     "cell_type": "raw",
     "metadata": {},
     "source": [
      "now fill the ghost cells -- notice that the left and right are periodic, the upper is outflow, and the lower is reflect, as specified when we registered the data above."
     ]
    },
    {
     "cell_type": "code",
     "collapsed": false,
     "input": [
      "d.fill_BC(\"a\")\n",
      "a.pretty_print()"
     ],
     "language": "python",
     "metadata": {},
     "outputs": [
      {
       "output_type": "stream",
       "stream": "stdout",
       "text": [
        "\u001b[31m  0.079487\u001b[0m\u001b[31m   0.81882\u001b[0m\u001b[31m   0.90355\u001b[0m\u001b[31m  0.088524\u001b[0m\u001b[31m   0.58437\u001b[0m\u001b[31m   0.24561\u001b[0m\u001b[31m   0.98689\u001b[0m\u001b[31m   0.72861\u001b[0m\u001b[31m  0.079487\u001b[0m\u001b[31m   0.81882\u001b[0m\u001b[31m   0.90355\u001b[0m\u001b[31m  0.088524\u001b[0m \n",
        "\u001b[31m  0.079487\u001b[0m\u001b[31m   0.81882\u001b[0m\u001b[31m   0.90355\u001b[0m\u001b[31m  0.088524\u001b[0m\u001b[31m   0.58437\u001b[0m\u001b[31m   0.24561\u001b[0m\u001b[31m   0.98689\u001b[0m\u001b[31m   0.72861\u001b[0m\u001b[31m  0.079487\u001b[0m\u001b[31m   0.81882\u001b[0m\u001b[31m   0.90355\u001b[0m\u001b[31m  0.088524\u001b[0m \n",
        "\u001b[31m  0.079487\u001b[0m\u001b[31m   0.81882\u001b[0m   0.90355  0.088524   0.58437   0.24561   0.98689   0.72861  0.079487   0.81882\u001b[31m   0.90355\u001b[0m\u001b[31m  0.088524\u001b[0m \n",
        "\u001b[31m  0.046262\u001b[0m\u001b[31m   0.33858\u001b[0m   0.60841   0.70387   0.72768  0.066687   0.84114  0.016395  0.046262   0.33858\u001b[31m   0.60841\u001b[0m\u001b[31m   0.70387\u001b[0m \n",
        "\u001b[31m   0.12882\u001b[0m\u001b[31m    0.4223\u001b[0m   0.22778   0.37001   0.73521   0.32588   0.24679   0.64942   0.12882    0.4223\u001b[31m   0.22778\u001b[0m\u001b[31m   0.37001\u001b[0m \n",
        "\u001b[31m   0.63133\u001b[0m\u001b[31m   0.73457\u001b[0m   0.47855   0.28909   0.11444   0.26778  0.057257   0.72417   0.63133   0.73457\u001b[31m   0.47855\u001b[0m\u001b[31m   0.28909\u001b[0m \n",
        "\u001b[31m   0.94922\u001b[0m\u001b[31m   0.45918\u001b[0m   0.19554   0.85406    0.2332  0.044159   0.92935  0.012833   0.94922   0.45918\u001b[31m   0.19554\u001b[0m\u001b[31m   0.85406\u001b[0m \n",
        "\u001b[31m   0.23001\u001b[0m\u001b[31m   0.14878\u001b[0m   0.61173    0.3895   0.15269   0.84111   0.56427   0.17527   0.23001   0.14878\u001b[31m   0.61173\u001b[0m\u001b[31m    0.3895\u001b[0m \n",
        "\u001b[31m    0.6218\u001b[0m\u001b[31m   0.43146\u001b[0m   0.32262   0.74235   0.49147   0.80387   0.65799   0.67749    0.6218   0.43146\u001b[31m   0.32262\u001b[0m\u001b[31m   0.74235\u001b[0m \n",
        "\u001b[31m   0.57256\u001b[0m\u001b[31m   0.79617\u001b[0m  0.035963   0.44096   0.18963    0.7179      0.29    0.6061   0.57256   0.79617\u001b[31m  0.035963\u001b[0m\u001b[31m   0.44096\u001b[0m \n",
        "\u001b[31m   0.57256\u001b[0m\u001b[31m   0.79617\u001b[0m\u001b[31m  0.035963\u001b[0m\u001b[31m   0.44096\u001b[0m\u001b[31m   0.18963\u001b[0m\u001b[31m    0.7179\u001b[0m\u001b[31m      0.29\u001b[0m\u001b[31m    0.6061\u001b[0m\u001b[31m   0.57256\u001b[0m\u001b[31m   0.79617\u001b[0m\u001b[31m  0.035963\u001b[0m\u001b[31m   0.44096\u001b[0m \n",
        "\u001b[31m    0.6218\u001b[0m\u001b[31m   0.43146\u001b[0m\u001b[31m   0.32262\u001b[0m\u001b[31m   0.74235\u001b[0m\u001b[31m   0.49147\u001b[0m\u001b[31m   0.80387\u001b[0m\u001b[31m   0.65799\u001b[0m\u001b[31m   0.67749\u001b[0m\u001b[31m    0.6218\u001b[0m\u001b[31m   0.43146\u001b[0m\u001b[31m   0.32262\u001b[0m\u001b[31m   0.74235\u001b[0m \n",
        "\n",
        "         ^ y\n",
        "         |\n",
        "         +---> x\n",
        "        \n"
       ]
      }
     ],
     "prompt_number": 6
    },
    {
     "cell_type": "code",
     "collapsed": false,
     "input": [],
     "language": "python",
     "metadata": {},
     "outputs": [],
     "prompt_number": 7
    }
   ],
   "metadata": {}
  }
 ]
}