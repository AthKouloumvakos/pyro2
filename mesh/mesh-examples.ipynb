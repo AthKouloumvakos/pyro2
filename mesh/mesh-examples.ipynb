{
 "cells": [
  {
   "cell_type": "markdown",
   "metadata": {},
   "source": [
    "# Mesh examples"
   ]
  },
  {
   "cell_type": "markdown",
   "metadata": {},
   "source": [
    "this notebook illustrates the basic ways of interacting with the pyro2 mesh module.  We create some data that lives on a grid and show how to fill the ghost cells.  The pretty_print() function shows us that they work as expected."
   ]
  },
  {
   "cell_type": "code",
   "execution_count": 1,
   "metadata": {
    "tags": [
     "nbval-ignore-output"
    ]
   },
   "outputs": [
    {
     "name": "stderr",
     "output_type": "stream",
     "text": [
      "/usr/lib64/python3.6/site-packages/h5py/__init__.py:36: FutureWarning: Conversion of the second argument of issubdtype from `float` to `np.floating` is deprecated. In future, it will be treated as `np.float64 == np.dtype(float).type`.\n",
      "  from ._conv import register_converters as _register_converters\n"
     ]
    }
   ],
   "source": [
    "from __future__ import print_function\n",
    "import numpy as np\n",
    "import mesh.boundary as bnd\n",
    "import mesh.patch as patch\n",
    "import matplotlib.pyplot as plt\n",
    "%matplotlib inline\n",
    "\n",
    "# for unit testing, we want to ensure the same random numbers\n",
    "np.random.seed(100)"
   ]
  },
  {
   "cell_type": "markdown",
   "metadata": {},
   "source": [
    "## Setup a Grid with Variables"
   ]
  },
  {
   "cell_type": "markdown",
   "metadata": {},
   "source": [
    "There are a few core classes that we deal with when creating a grid with associated variables:\n",
    "\n",
    "* `Grid2d` : this holds the size of the grid (in zones) and the physical coordinate information, including coordinates of cell edges and centers\n",
    "\n",
    "* `BC` : this is a container class that simply holds the type of boundary condition on each domain edge.\n",
    "\n",
    "* `ArrayIndexer` : this is an array of data along with methods that know how to access it with different offsets into the data that usually arise in stencils (like {i+1, j})\n",
    "\n",
    "* `CellCenterData2d` : this holds the data that lives on a grid.  Each variable that is part of this class has its own boundary condition type."
   ]
  },
  {
   "cell_type": "markdown",
   "metadata": {},
   "source": [
    "We start by creating a `Grid2d` object with 4 x 6 cells and 2 ghost cells"
   ]
  },
  {
   "cell_type": "code",
   "execution_count": 2,
   "metadata": {},
   "outputs": [
    {
     "name": "stdout",
     "output_type": "stream",
     "text": [
      "2-d grid: nx = 4, ny = 6, ng = 2\n"
     ]
    }
   ],
   "source": [
    "g = patch.Grid2d(4, 6, ng=2)\n",
    "print(g)"
   ]
  },
  {
   "cell_type": "code",
   "execution_count": 3,
   "metadata": {},
   "outputs": [
    {
     "name": "stdout",
     "output_type": "stream",
     "text": [
      "Help on Grid2d in module mesh.patch object:\n",
      "\n",
      "class Grid2d(builtins.object)\n",
      " |  the 2-d grid class.  The grid object will contain the coordinate\n",
      " |  information (at various centerings).\n",
      " |  \n",
      " |  A basic (1-d) representation of the layout is::\n",
      " |  \n",
      " |     |     |      |     X     |     |      |     |     X     |      |     |\n",
      " |     +--*--+- // -+--*--X--*--+--*--+- // -+--*--+--*--X--*--+- // -+--*--+\n",
      " |        0          ng-1    ng   ng+1         ... ng+nx-1 ng+nx      2ng+nx-1\n",
      " |  \n",
      " |                          ilo                      ihi\n",
      " |  \n",
      " |     |<- ng guardcells->|<---- nx interior zones ----->|<- ng guardcells->|\n",
      " |  \n",
      " |  The '*' marks the data locations.\n",
      " |  \n",
      " |  Methods defined here:\n",
      " |  \n",
      " |  __eq__(self, other)\n",
      " |      are two grids equivalent?\n",
      " |  \n",
      " |  __init__(self, nx, ny, ng=1, xmin=0.0, xmax=1.0, ymin=0.0, ymax=1.0)\n",
      " |      Create a Grid2d object.\n",
      " |      \n",
      " |      The only data that we require is the number of points that\n",
      " |      make up the mesh in each direction.  Optionally we take the\n",
      " |      extrema of the domain (default is [0,1]x[0,1]) and number of\n",
      " |      ghost cells (default is 1).\n",
      " |      \n",
      " |      Note that the Grid2d object only defines the discretization,\n",
      " |      it does not know about the boundary conditions, as these can\n",
      " |      vary depending on the variable.\n",
      " |      \n",
      " |      Parameters\n",
      " |      ----------\n",
      " |      nx : int\n",
      " |          Number of zones in the x-direction\n",
      " |      ny : int\n",
      " |          Number of zones in the y-direction\n",
      " |      ng : int, optional\n",
      " |          Number of ghost cells\n",
      " |      xmin : float, optional\n",
      " |          Physical coordinate at the lower x boundary\n",
      " |      xmax : float, optional\n",
      " |          Physical coordinate at the upper x boundary\n",
      " |      ymin : float, optional\n",
      " |          Physical coordinate at the lower y boundary\n",
      " |      ymax : float, optional\n",
      " |          Physical coordinate at the upper y boundary\n",
      " |  \n",
      " |  __str__(self)\n",
      " |      print out some basic information about the grid object\n",
      " |  \n",
      " |  coarse_like(self, N)\n",
      " |      return a new grid object coarsened by a factor n, but with\n",
      " |      all the other properties the same\n",
      " |  \n",
      " |  fine_like(self, N)\n",
      " |      return a new grid object finer by a factor n, but with\n",
      " |      all the other properties the same\n",
      " |  \n",
      " |  norm(self, d)\n",
      " |      find the norm of the quantity d defined on the same grid, in the\n",
      " |      domain's valid region\n",
      " |  \n",
      " |  scratch_array(self, nvar=1)\n",
      " |      return a standard numpy array dimensioned to have the size\n",
      " |      and number of ghostcells as the parent grid\n",
      " |  \n",
      " |  ----------------------------------------------------------------------\n",
      " |  Data descriptors defined here:\n",
      " |  \n",
      " |  __dict__\n",
      " |      dictionary for instance variables (if defined)\n",
      " |  \n",
      " |  __weakref__\n",
      " |      list of weak references to the object (if defined)\n",
      " |  \n",
      " |  ----------------------------------------------------------------------\n",
      " |  Data and other attributes defined here:\n",
      " |  \n",
      " |  __hash__ = None\n",
      "\n"
     ]
    }
   ],
   "source": [
    "help(g)"
   ]
  },
  {
   "cell_type": "markdown",
   "metadata": {},
   "source": [
    "Then create a dataset that lives on this grid and add a variable name.  For each variable that lives on the grid, we need to define the boundary conditions -- this is done through the BC object."
   ]
  },
  {
   "cell_type": "code",
   "execution_count": 4,
   "metadata": {},
   "outputs": [
    {
     "name": "stdout",
     "output_type": "stream",
     "text": [
      "BCs: -x: periodic  +x: periodic  -y: reflect-even  +y: outflow\n"
     ]
    }
   ],
   "source": [
    "bc = bnd.BC(xlb=\"periodic\", xrb=\"periodic\", ylb=\"reflect\", yrb=\"outflow\")\n",
    "print(bc)"
   ]
  },
  {
   "cell_type": "code",
   "execution_count": 5,
   "metadata": {},
   "outputs": [
    {
     "name": "stdout",
     "output_type": "stream",
     "text": [
      "cc data: nx = 4, ny = 6, ng = 2\n",
      "         nvars = 1\n",
      "         variables:\n",
      "               a: min:    0.0000000000    max:    0.0000000000\n",
      "                  BCs: -x: periodic     +x: periodic     -y: reflect-even +y: outflow     \n",
      "\n"
     ]
    }
   ],
   "source": [
    "d = patch.CellCenterData2d(g)\n",
    "d.register_var(\"a\", bc)\n",
    "d.create()\n",
    "print(d)"
   ]
  },
  {
   "cell_type": "markdown",
   "metadata": {},
   "source": [
    "## Working with the data"
   ]
  },
  {
   "cell_type": "markdown",
   "metadata": {},
   "source": [
    "Now we fill the grid with random data.  `get_var()` returns an `ArrayIndexer` object that has methods for accessing views into the data.  Here we use `a.v()` to get the \"valid\" region, i.e. excluding ghost cells."
   ]
  },
  {
   "cell_type": "code",
   "execution_count": 6,
   "metadata": {},
   "outputs": [],
   "source": [
    "a = d.get_var(\"a\")\n",
    "a.v()[:,:] = np.random.rand(g.nx, g.ny)"
   ]
  },
  {
   "cell_type": "markdown",
   "metadata": {},
   "source": [
    "when we pretty_print() the variable, we see the ghost cells colored red.  Note that we just filled the interior above."
   ]
  },
  {
   "cell_type": "code",
   "execution_count": 7,
   "metadata": {},
   "outputs": [
    {
     "name": "stdout",
     "output_type": "stream",
     "text": [
      "\u001b[31m         0\u001b[0m\u001b[31m         0\u001b[0m\u001b[31m         0\u001b[0m\u001b[31m         0\u001b[0m\u001b[31m         0\u001b[0m\u001b[31m         0\u001b[0m\u001b[31m         0\u001b[0m\u001b[31m         0\u001b[0m \n",
      "\u001b[31m         0\u001b[0m\u001b[31m         0\u001b[0m\u001b[31m         0\u001b[0m\u001b[31m         0\u001b[0m\u001b[31m         0\u001b[0m\u001b[31m         0\u001b[0m\u001b[31m         0\u001b[0m\u001b[31m         0\u001b[0m \n",
      "\u001b[31m         0\u001b[0m\u001b[31m         0\u001b[0m   0.12157    0.2092   0.17194   0.33611\u001b[31m         0\u001b[0m\u001b[31m         0\u001b[0m \n",
      "\u001b[31m         0\u001b[0m\u001b[31m         0\u001b[0m 0.0047189   0.89132   0.81168   0.81765\u001b[31m         0\u001b[0m\u001b[31m         0\u001b[0m \n",
      "\u001b[31m         0\u001b[0m\u001b[31m         0\u001b[0m   0.84478   0.57509   0.97862   0.94003\u001b[31m         0\u001b[0m\u001b[31m         0\u001b[0m \n",
      "\u001b[31m         0\u001b[0m\u001b[31m         0\u001b[0m   0.42452   0.13671    0.2197    0.4317\u001b[31m         0\u001b[0m\u001b[31m         0\u001b[0m \n",
      "\u001b[31m         0\u001b[0m\u001b[31m         0\u001b[0m   0.27837   0.82585   0.10838   0.27407\u001b[31m         0\u001b[0m\u001b[31m         0\u001b[0m \n",
      "\u001b[31m         0\u001b[0m\u001b[31m         0\u001b[0m    0.5434   0.67075   0.18533   0.81622\u001b[31m         0\u001b[0m\u001b[31m         0\u001b[0m \n",
      "\u001b[31m         0\u001b[0m\u001b[31m         0\u001b[0m\u001b[31m         0\u001b[0m\u001b[31m         0\u001b[0m\u001b[31m         0\u001b[0m\u001b[31m         0\u001b[0m\u001b[31m         0\u001b[0m\u001b[31m         0\u001b[0m \n",
      "\u001b[31m         0\u001b[0m\u001b[31m         0\u001b[0m\u001b[31m         0\u001b[0m\u001b[31m         0\u001b[0m\u001b[31m         0\u001b[0m\u001b[31m         0\u001b[0m\u001b[31m         0\u001b[0m\u001b[31m         0\u001b[0m \n",
      "\n",
      "         ^ y\n",
      "         |\n",
      "         +---> x\n",
      "        \n"
     ]
    }
   ],
   "source": [
    "a.pretty_print()"
   ]
  },
  {
   "cell_type": "markdown",
   "metadata": {},
   "source": [
    "`pretty_print()` can also take an argumet, specifying the format string to be used for the output."
   ]
  },
  {
   "cell_type": "code",
   "execution_count": 8,
   "metadata": {},
   "outputs": [
    {
     "name": "stdout",
     "output_type": "stream",
     "text": [
      "\u001b[31m      0\u001b[0m\u001b[31m      0\u001b[0m\u001b[31m      0\u001b[0m\u001b[31m      0\u001b[0m\u001b[31m      0\u001b[0m\u001b[31m      0\u001b[0m\u001b[31m      0\u001b[0m\u001b[31m      0\u001b[0m \n",
      "\u001b[31m      0\u001b[0m\u001b[31m      0\u001b[0m\u001b[31m      0\u001b[0m\u001b[31m      0\u001b[0m\u001b[31m      0\u001b[0m\u001b[31m      0\u001b[0m\u001b[31m      0\u001b[0m\u001b[31m      0\u001b[0m \n",
      "\u001b[31m      0\u001b[0m\u001b[31m      0\u001b[0m  0.122  0.209  0.172  0.336\u001b[31m      0\u001b[0m\u001b[31m      0\u001b[0m \n",
      "\u001b[31m      0\u001b[0m\u001b[31m      0\u001b[0m0.00472  0.891  0.812  0.818\u001b[31m      0\u001b[0m\u001b[31m      0\u001b[0m \n",
      "\u001b[31m      0\u001b[0m\u001b[31m      0\u001b[0m  0.845  0.575  0.979   0.94\u001b[31m      0\u001b[0m\u001b[31m      0\u001b[0m \n",
      "\u001b[31m      0\u001b[0m\u001b[31m      0\u001b[0m  0.425  0.137   0.22  0.432\u001b[31m      0\u001b[0m\u001b[31m      0\u001b[0m \n",
      "\u001b[31m      0\u001b[0m\u001b[31m      0\u001b[0m  0.278  0.826  0.108  0.274\u001b[31m      0\u001b[0m\u001b[31m      0\u001b[0m \n",
      "\u001b[31m      0\u001b[0m\u001b[31m      0\u001b[0m  0.543  0.671  0.185  0.816\u001b[31m      0\u001b[0m\u001b[31m      0\u001b[0m \n",
      "\u001b[31m      0\u001b[0m\u001b[31m      0\u001b[0m\u001b[31m      0\u001b[0m\u001b[31m      0\u001b[0m\u001b[31m      0\u001b[0m\u001b[31m      0\u001b[0m\u001b[31m      0\u001b[0m\u001b[31m      0\u001b[0m \n",
      "\u001b[31m      0\u001b[0m\u001b[31m      0\u001b[0m\u001b[31m      0\u001b[0m\u001b[31m      0\u001b[0m\u001b[31m      0\u001b[0m\u001b[31m      0\u001b[0m\u001b[31m      0\u001b[0m\u001b[31m      0\u001b[0m \n",
      "\n",
      "         ^ y\n",
      "         |\n",
      "         +---> x\n",
      "        \n"
     ]
    }
   ],
   "source": [
    "a.pretty_print(fmt=\"%7.3g\")"
   ]
  },
  {
   "cell_type": "markdown",
   "metadata": {},
   "source": [
    "now fill the ghost cells -- notice that the left and right are periodic, the upper is outflow, and the lower is reflect, as specified when we registered the data above."
   ]
  },
  {
   "cell_type": "code",
   "execution_count": 9,
   "metadata": {},
   "outputs": [
    {
     "name": "stdout",
     "output_type": "stream",
     "text": [
      "\u001b[31m   0.17194\u001b[0m\u001b[31m   0.33611\u001b[0m\u001b[31m   0.12157\u001b[0m\u001b[31m    0.2092\u001b[0m\u001b[31m   0.17194\u001b[0m\u001b[31m   0.33611\u001b[0m\u001b[31m   0.12157\u001b[0m\u001b[31m    0.2092\u001b[0m \n",
      "\u001b[31m   0.17194\u001b[0m\u001b[31m   0.33611\u001b[0m\u001b[31m   0.12157\u001b[0m\u001b[31m    0.2092\u001b[0m\u001b[31m   0.17194\u001b[0m\u001b[31m   0.33611\u001b[0m\u001b[31m   0.12157\u001b[0m\u001b[31m    0.2092\u001b[0m \n",
      "\u001b[31m   0.17194\u001b[0m\u001b[31m   0.33611\u001b[0m   0.12157    0.2092   0.17194   0.33611\u001b[31m   0.12157\u001b[0m\u001b[31m    0.2092\u001b[0m \n",
      "\u001b[31m   0.81168\u001b[0m\u001b[31m   0.81765\u001b[0m 0.0047189   0.89132   0.81168   0.81765\u001b[31m 0.0047189\u001b[0m\u001b[31m   0.89132\u001b[0m \n",
      "\u001b[31m   0.97862\u001b[0m\u001b[31m   0.94003\u001b[0m   0.84478   0.57509   0.97862   0.94003\u001b[31m   0.84478\u001b[0m\u001b[31m   0.57509\u001b[0m \n",
      "\u001b[31m    0.2197\u001b[0m\u001b[31m    0.4317\u001b[0m   0.42452   0.13671    0.2197    0.4317\u001b[31m   0.42452\u001b[0m\u001b[31m   0.13671\u001b[0m \n",
      "\u001b[31m   0.10838\u001b[0m\u001b[31m   0.27407\u001b[0m   0.27837   0.82585   0.10838   0.27407\u001b[31m   0.27837\u001b[0m\u001b[31m   0.82585\u001b[0m \n",
      "\u001b[31m   0.18533\u001b[0m\u001b[31m   0.81622\u001b[0m    0.5434   0.67075   0.18533   0.81622\u001b[31m    0.5434\u001b[0m\u001b[31m   0.67075\u001b[0m \n",
      "\u001b[31m   0.18533\u001b[0m\u001b[31m   0.81622\u001b[0m\u001b[31m    0.5434\u001b[0m\u001b[31m   0.67075\u001b[0m\u001b[31m   0.18533\u001b[0m\u001b[31m   0.81622\u001b[0m\u001b[31m    0.5434\u001b[0m\u001b[31m   0.67075\u001b[0m \n",
      "\u001b[31m   0.10838\u001b[0m\u001b[31m   0.27407\u001b[0m\u001b[31m   0.27837\u001b[0m\u001b[31m   0.82585\u001b[0m\u001b[31m   0.10838\u001b[0m\u001b[31m   0.27407\u001b[0m\u001b[31m   0.27837\u001b[0m\u001b[31m   0.82585\u001b[0m \n",
      "\n",
      "         ^ y\n",
      "         |\n",
      "         +---> x\n",
      "        \n"
     ]
    }
   ],
   "source": [
    "d.fill_BC(\"a\")\n",
    "a.pretty_print()"
   ]
  },
  {
   "cell_type": "markdown",
   "metadata": {},
   "source": [
    "We can find the L2 norm of the data easily"
   ]
  },
  {
   "cell_type": "code",
   "execution_count": 10,
   "metadata": {},
   "outputs": [
    {
     "data": {
      "text/plain": [
       "0.5749769043407793"
      ]
     },
     "execution_count": 10,
     "metadata": {},
     "output_type": "execute_result"
    }
   ],
   "source": [
    "a.norm()"
   ]
  },
  {
   "cell_type": "markdown",
   "metadata": {},
   "source": [
    "and the min and max"
   ]
  },
  {
   "cell_type": "code",
   "execution_count": 11,
   "metadata": {},
   "outputs": [
    {
     "name": "stdout",
     "output_type": "stream",
     "text": [
      "0.004718856190972565 0.9786237847073697\n"
     ]
    }
   ],
   "source": [
    "print(a.min(), a.max())"
   ]
  },
  {
   "cell_type": "markdown",
   "metadata": {},
   "source": [
    "## `ArrayIndexer`"
   ]
  },
  {
   "cell_type": "markdown",
   "metadata": {},
   "source": [
    "We we access the data, an `ArrayIndexer` object is returned.  The `ArrayIndexer` sub-classes the NumPy `ndarray`, so it can do all of the methods that a NumPy array can, but in addition, we can use the `ip()`, `jp()`, or `ipjp()` methods to the `ArrayIndexer` object shift our view in the x, y, or x & y directions.\n",
    "\n",
    "To make this clearer, we'll change our data set to be nicely ordered numbers.  We index the `ArrayIndex` the same way we would a NumPy array.  The index space includes ghost cells, so the `ilo` and `ihi` attributes from the grid object are useful to index just the valid region.  The `.v()` method is a shortcut that also gives a view into just the valid data.\n",
    "\n",
    "Note: when we use one of the `ip()`, `jp()`, `ipjp()`, or `v()` methods, the result is a regular NumPy `ndarray`, not an `ArrayIndexer` object.  This is because it only spans part of the domain (e.g., no ghost cells), and therefore cannot be associated with the `Grid2d` object that the `ArrayIndexer` is built from."
   ]
  },
  {
   "cell_type": "code",
   "execution_count": 12,
   "metadata": {},
   "outputs": [
    {
     "data": {
      "text/plain": [
       "mesh.array_indexer.ArrayIndexer"
      ]
     },
     "execution_count": 12,
     "metadata": {},
     "output_type": "execute_result"
    }
   ],
   "source": [
    "type(a)"
   ]
  },
  {
   "cell_type": "code",
   "execution_count": 13,
   "metadata": {},
   "outputs": [
    {
     "data": {
      "text/plain": [
       "mesh.array_indexer.ArrayIndexer"
      ]
     },
     "execution_count": 13,
     "metadata": {},
     "output_type": "execute_result"
    }
   ],
   "source": [
    "type(a.v())"
   ]
  },
  {
   "cell_type": "code",
   "execution_count": 14,
   "metadata": {},
   "outputs": [],
   "source": [
    "a[:,:] = np.arange(g.qx*g.qy).reshape(g.qx, g.qy)"
   ]
  },
  {
   "cell_type": "code",
   "execution_count": 15,
   "metadata": {},
   "outputs": [
    {
     "name": "stdout",
     "output_type": "stream",
     "text": [
      "\u001b[31m         9\u001b[0m\u001b[31m        19\u001b[0m\u001b[31m        29\u001b[0m\u001b[31m        39\u001b[0m\u001b[31m        49\u001b[0m\u001b[31m        59\u001b[0m\u001b[31m        69\u001b[0m\u001b[31m        79\u001b[0m \n",
      "\u001b[31m         8\u001b[0m\u001b[31m        18\u001b[0m\u001b[31m        28\u001b[0m\u001b[31m        38\u001b[0m\u001b[31m        48\u001b[0m\u001b[31m        58\u001b[0m\u001b[31m        68\u001b[0m\u001b[31m        78\u001b[0m \n",
      "\u001b[31m         7\u001b[0m\u001b[31m        17\u001b[0m        27        37        47        57\u001b[31m        67\u001b[0m\u001b[31m        77\u001b[0m \n",
      "\u001b[31m         6\u001b[0m\u001b[31m        16\u001b[0m        26        36        46        56\u001b[31m        66\u001b[0m\u001b[31m        76\u001b[0m \n",
      "\u001b[31m         5\u001b[0m\u001b[31m        15\u001b[0m        25        35        45        55\u001b[31m        65\u001b[0m\u001b[31m        75\u001b[0m \n",
      "\u001b[31m         4\u001b[0m\u001b[31m        14\u001b[0m        24        34        44        54\u001b[31m        64\u001b[0m\u001b[31m        74\u001b[0m \n",
      "\u001b[31m         3\u001b[0m\u001b[31m        13\u001b[0m        23        33        43        53\u001b[31m        63\u001b[0m\u001b[31m        73\u001b[0m \n",
      "\u001b[31m         2\u001b[0m\u001b[31m        12\u001b[0m        22        32        42        52\u001b[31m        62\u001b[0m\u001b[31m        72\u001b[0m \n",
      "\u001b[31m         1\u001b[0m\u001b[31m        11\u001b[0m\u001b[31m        21\u001b[0m\u001b[31m        31\u001b[0m\u001b[31m        41\u001b[0m\u001b[31m        51\u001b[0m\u001b[31m        61\u001b[0m\u001b[31m        71\u001b[0m \n",
      "\u001b[31m         0\u001b[0m\u001b[31m        10\u001b[0m\u001b[31m        20\u001b[0m\u001b[31m        30\u001b[0m\u001b[31m        40\u001b[0m\u001b[31m        50\u001b[0m\u001b[31m        60\u001b[0m\u001b[31m        70\u001b[0m \n",
      "\n",
      "         ^ y\n",
      "         |\n",
      "         +---> x\n",
      "        \n"
     ]
    }
   ],
   "source": [
    "a.pretty_print()"
   ]
  },
  {
   "cell_type": "markdown",
   "metadata": {},
   "source": [
    "We index our arrays as {i,j}, so x (indexed by i) is the row and y (indexed by j) is the column in the NumPy array.   Note that python arrays are stored in row-major order, which means that all of the entries in the same row are adjacent in memory.  This means that when we simply print out the `ndarray`, we see constant-x horizontally, which is the transpose of what we are used to."
   ]
  },
  {
   "cell_type": "code",
   "execution_count": 16,
   "metadata": {},
   "outputs": [
    {
     "data": {
      "text/plain": [
       "ArrayIndexer([[22., 23., 24., 25., 26., 27.],\n",
       "              [32., 33., 34., 35., 36., 37.],\n",
       "              [42., 43., 44., 45., 46., 47.],\n",
       "              [52., 53., 54., 55., 56., 57.]])"
      ]
     },
     "execution_count": 16,
     "metadata": {},
     "output_type": "execute_result"
    }
   ],
   "source": [
    "a.v()"
   ]
  },
  {
   "cell_type": "markdown",
   "metadata": {},
   "source": [
    "We can offset our view into the array by one in x -- this would be like {i+1, j} when we loop over data.  The `ip()` method is used here, and takes an argument which is the (positive) shift in the x (i) direction.  So here's a shift by 1"
   ]
  },
  {
   "cell_type": "code",
   "execution_count": 17,
   "metadata": {},
   "outputs": [
    {
     "data": {
      "text/plain": [
       "ArrayIndexer([[ 1.,  2.,  3.,  4.,  5.,  6.,  7.,  8.],\n",
       "              [11., 12., 13., 14., 15., 16., 17., 18.],\n",
       "              [21., 22., 23., 24., 25., 26., 27., 28.],\n",
       "              [31., 32., 33., 34., 35., 36., 37., 38.],\n",
       "              [41., 42., 43., 44., 45., 46., 47., 48.],\n",
       "              [51., 52., 53., 54., 55., 56., 57., 58.]])"
      ]
     },
     "execution_count": 17,
     "metadata": {},
     "output_type": "execute_result"
    }
   ],
   "source": [
    "a.ip(-1, buf=1)"
   ]
  },
  {
   "cell_type": "markdown",
   "metadata": {},
   "source": [
    "A shifted view is necessarily smaller than the original array, and relies on ghost cells to bring new data into view.  Because of this, the underlying data is no longer the same size as the original data, so we return it as an `ndarray` (which is actually just a view into the data in the `ArrayIndexer` object, so no copy is made.\n",
    "\n",
    "To see that it is simply a view, lets shift and edit the data"
   ]
  },
  {
   "cell_type": "code",
   "execution_count": 18,
   "metadata": {
    "scrolled": true
   },
   "outputs": [
    {
     "name": "stdout",
     "output_type": "stream",
     "text": [
      "\u001b[31m         9\u001b[0m\u001b[31m        19\u001b[0m\u001b[31m        29\u001b[0m\u001b[31m        39\u001b[0m\u001b[31m        49\u001b[0m\u001b[31m        59\u001b[0m\u001b[31m        69\u001b[0m\u001b[31m        79\u001b[0m \n",
      "\u001b[31m         8\u001b[0m\u001b[31m        18\u001b[0m\u001b[31m        28\u001b[0m\u001b[31m        38\u001b[0m\u001b[31m        48\u001b[0m\u001b[31m        58\u001b[0m\u001b[31m        68\u001b[0m\u001b[31m        78\u001b[0m \n",
      "\u001b[31m         7\u001b[0m\u001b[31m        17\u001b[0m        27        37        47        57\u001b[31m        67\u001b[0m\u001b[31m        77\u001b[0m \n",
      "\u001b[31m         6\u001b[0m\u001b[31m        16\u001b[0m        26        36        46        56\u001b[31m        66\u001b[0m\u001b[31m        76\u001b[0m \n",
      "\u001b[31m         5\u001b[0m\u001b[31m        15\u001b[0m        25        35        45        55\u001b[31m        65\u001b[0m\u001b[31m        75\u001b[0m \n",
      "\u001b[31m         4\u001b[0m\u001b[31m        14\u001b[0m        24        34        44        54\u001b[31m        64\u001b[0m\u001b[31m        74\u001b[0m \n",
      "\u001b[31m         3\u001b[0m\u001b[31m        13\u001b[0m        23        33         0        53\u001b[31m        63\u001b[0m\u001b[31m        73\u001b[0m \n",
      "\u001b[31m         2\u001b[0m\u001b[31m        12\u001b[0m        22        32        42        52\u001b[31m        62\u001b[0m\u001b[31m        72\u001b[0m \n",
      "\u001b[31m         1\u001b[0m\u001b[31m        11\u001b[0m\u001b[31m        21\u001b[0m\u001b[31m        31\u001b[0m\u001b[31m        41\u001b[0m\u001b[31m        51\u001b[0m\u001b[31m        61\u001b[0m\u001b[31m        71\u001b[0m \n",
      "\u001b[31m         0\u001b[0m\u001b[31m        10\u001b[0m\u001b[31m        20\u001b[0m\u001b[31m        30\u001b[0m\u001b[31m        40\u001b[0m\u001b[31m        50\u001b[0m\u001b[31m        60\u001b[0m\u001b[31m        70\u001b[0m \n",
      "\n",
      "         ^ y\n",
      "         |\n",
      "         +---> x\n",
      "        \n"
     ]
    }
   ],
   "source": [
    "d = a.ip(1)\n",
    "d[1,1] = 0.0\n",
    "a.pretty_print()"
   ]
  },
  {
   "cell_type": "markdown",
   "metadata": {},
   "source": [
    "Here, since d was really a view into $a_{i+1,j}$, and we accessed element (1,1) into that view (with 0,0 as the origin), we were really accessing the element (2,1) in the valid region"
   ]
  },
  {
   "cell_type": "markdown",
   "metadata": {},
   "source": [
    "## Differencing"
   ]
  },
  {
   "cell_type": "markdown",
   "metadata": {},
   "source": [
    "`ArrayIndexer` objects are easy to use to construct differences, like those that appear in a stencil for a finite-difference, without having to explicitly loop over the elements of the array.\n",
    "\n",
    "Here's we'll create a new dataset that is initialized with a sine function"
   ]
  },
  {
   "cell_type": "code",
   "execution_count": 19,
   "metadata": {},
   "outputs": [],
   "source": [
    "g = patch.Grid2d(8, 8, ng=2)\n",
    "d = patch.CellCenterData2d(g)\n",
    "bc = bnd.BC(xlb=\"periodic\", xrb=\"periodic\", ylb=\"periodic\", yrb=\"periodic\")\n",
    "d.register_var(\"a\", bc)\n",
    "d.create()\n",
    "\n",
    "a = d.get_var(\"a\")\n",
    "a[:,:] = np.sin(2.0*np.pi*a.g.x2d)\n",
    "d.fill_BC(\"a\")"
   ]
  },
  {
   "cell_type": "markdown",
   "metadata": {},
   "source": [
    "Our grid object can provide us with a scratch array (an `ArrayIndexer` object) define on the same grid"
   ]
  },
  {
   "cell_type": "code",
   "execution_count": 20,
   "metadata": {},
   "outputs": [
    {
     "data": {
      "text/plain": [
       "mesh.array_indexer.ArrayIndexer"
      ]
     },
     "execution_count": 20,
     "metadata": {},
     "output_type": "execute_result"
    }
   ],
   "source": [
    "b = g.scratch_array()\n",
    "type(b)"
   ]
  },
  {
   "cell_type": "markdown",
   "metadata": {},
   "source": [
    "We can then fill the data in this array with differenced data from our original array -- since `b` has a separate data region in memory, its elements are independent of `a`.  We do need to make sure that we have the same number of elements on the left and right of the `=`.  Since by default, `ip()` will return a view with the same size as the valid region, we can use `.v()` on the left to accept the differences.\n",
    "\n",
    "Here we compute a centered-difference approximation to the first derivative"
   ]
  },
  {
   "cell_type": "code",
   "execution_count": 21,
   "metadata": {},
   "outputs": [],
   "source": [
    "b.v()[:,:] = (a.ip(1) - a.ip(-1))/(2.0*a.g.dx)\n",
    "# normalization was 2.0*pi\n",
    "b[:,:] /= 2.0*np.pi"
   ]
  },
  {
   "cell_type": "code",
   "execution_count": 22,
   "metadata": {
    "tags": [
     "nbval-ignore-output"
    ]
   },
   "outputs": [
    {
     "name": "stdout",
     "output_type": "stream",
     "text": [
      "0.125\n"
     ]
    },
    {
     "data": {
      "image/png": "[encoded data removed]",
      "text/plain": [
       "<Figure size 432x288 with 1 Axes>"
      ]
     },
     "metadata": {},
     "output_type": "display_data"
    }
   ],
   "source": [
    "plt.plot(g.x[g.ilo:g.ihi+1], a[g.ilo:g.ihi+1,a.g.jc])\n",
    "plt.plot(g.x[g.ilo:g.ihi+1], b[g.ilo:g.ihi+1,b.g.jc])\n",
    "print (a.g.dx)"
   ]
  },
  {
   "cell_type": "markdown",
   "metadata": {},
   "source": [
    "## Coarsening and prolonging"
   ]
  },
  {
   "cell_type": "markdown",
   "metadata": {},
   "source": [
    "we can get a new `ArrayIndexer` object on a coarser grid for one of our variables"
   ]
  },
  {
   "cell_type": "code",
   "execution_count": 23,
   "metadata": {},
   "outputs": [],
   "source": [
    "c = d.restrict(\"a\")"
   ]
  },
  {
   "cell_type": "code",
   "execution_count": 24,
   "metadata": {},
   "outputs": [
    {
     "name": "stdout",
     "output_type": "stream",
     "text": [
      "\u001b[31m         0\u001b[0m\u001b[31m         0\u001b[0m\u001b[31m         0\u001b[0m\u001b[31m         0\u001b[0m\u001b[31m         0\u001b[0m\u001b[31m         0\u001b[0m\u001b[31m         0\u001b[0m\u001b[31m         0\u001b[0m \n",
      "\u001b[31m         0\u001b[0m\u001b[31m         0\u001b[0m\u001b[31m         0\u001b[0m\u001b[31m         0\u001b[0m\u001b[31m         0\u001b[0m\u001b[31m         0\u001b[0m\u001b[31m         0\u001b[0m\u001b[31m         0\u001b[0m \n",
      "\u001b[31m         0\u001b[0m\u001b[31m         0\u001b[0m   0.65328   0.65328  -0.65328  -0.65328\u001b[31m         0\u001b[0m\u001b[31m         0\u001b[0m \n",
      "\u001b[31m         0\u001b[0m\u001b[31m         0\u001b[0m   0.65328   0.65328  -0.65328  -0.65328\u001b[31m         0\u001b[0m\u001b[31m         0\u001b[0m \n",
      "\u001b[31m         0\u001b[0m\u001b[31m         0\u001b[0m   0.65328   0.65328  -0.65328  -0.65328\u001b[31m         0\u001b[0m\u001b[31m         0\u001b[0m \n",
      "\u001b[31m         0\u001b[0m\u001b[31m         0\u001b[0m   0.65328   0.65328  -0.65328  -0.65328\u001b[31m         0\u001b[0m\u001b[31m         0\u001b[0m \n",
      "\u001b[31m         0\u001b[0m\u001b[31m         0\u001b[0m\u001b[31m         0\u001b[0m\u001b[31m         0\u001b[0m\u001b[31m         0\u001b[0m\u001b[31m         0\u001b[0m\u001b[31m         0\u001b[0m\u001b[31m         0\u001b[0m \n",
      "\u001b[31m         0\u001b[0m\u001b[31m         0\u001b[0m\u001b[31m         0\u001b[0m\u001b[31m         0\u001b[0m\u001b[31m         0\u001b[0m\u001b[31m         0\u001b[0m\u001b[31m         0\u001b[0m\u001b[31m         0\u001b[0m \n",
      "\n",
      "         ^ y\n",
      "         |\n",
      "         +---> x\n",
      "        \n"
     ]
    }
   ],
   "source": [
    "c.pretty_print()"
   ]
  },
  {
   "cell_type": "markdown",
   "metadata": {},
   "source": [
    "or a finer grid"
   ]
  },
  {
   "cell_type": "code",
   "execution_count": 25,
   "metadata": {},
   "outputs": [],
   "source": [
    "f = d.prolong(\"a\")"
   ]
  },
  {
   "cell_type": "code",
   "execution_count": 26,
   "metadata": {},
   "outputs": [
    {
     "name": "stdout",
     "output_type": "stream",
     "text": [
      "\u001b[31m     0\u001b[0m\u001b[31m     0\u001b[0m\u001b[31m     0\u001b[0m\u001b[31m     0\u001b[0m\u001b[31m     0\u001b[0m\u001b[31m     0\u001b[0m\u001b[31m     0\u001b[0m\u001b[31m     0\u001b[0m\u001b[31m     0\u001b[0m\u001b[31m     0\u001b[0m\u001b[31m     0\u001b[0m\u001b[31m     0\u001b[0m\u001b[31m     0\u001b[0m\u001b[31m     0\u001b[0m\u001b[31m     0\u001b[0m\u001b[31m     0\u001b[0m\u001b[31m     0\u001b[0m\u001b[31m     0\u001b[0m\u001b[31m     0\u001b[0m\u001b[31m     0\u001b[0m \n",
      "\u001b[31m     0\u001b[0m\u001b[31m     0\u001b[0m\u001b[31m     0\u001b[0m\u001b[31m     0\u001b[0m\u001b[31m     0\u001b[0m\u001b[31m     0\u001b[0m\u001b[31m     0\u001b[0m\u001b[31m     0\u001b[0m\u001b[31m     0\u001b[0m\u001b[31m     0\u001b[0m\u001b[31m     0\u001b[0m\u001b[31m     0\u001b[0m\u001b[31m     0\u001b[0m\u001b[31m     0\u001b[0m\u001b[31m     0\u001b[0m\u001b[31m     0\u001b[0m\u001b[31m     0\u001b[0m\u001b[31m     0\u001b[0m\u001b[31m     0\u001b[0m\u001b[31m     0\u001b[0m \n",
      "\u001b[31m     0\u001b[0m\u001b[31m     0\u001b[0m  0.22  0.55  0.86  0.99  0.99  0.86  0.55  0.22 -0.22 -0.55 -0.86 -0.99 -0.99 -0.86 -0.55 -0.22\u001b[31m     0\u001b[0m\u001b[31m     0\u001b[0m \n",
      "\u001b[31m     0\u001b[0m\u001b[31m     0\u001b[0m  0.22  0.55  0.86  0.99  0.99  0.86  0.55  0.22 -0.22 -0.55 -0.86 -0.99 -0.99 -0.86 -0.55 -0.22\u001b[31m     0\u001b[0m\u001b[31m     0\u001b[0m \n",
      "\u001b[31m     0\u001b[0m\u001b[31m     0\u001b[0m  0.22  0.55  0.86  0.99  0.99  0.86  0.55  0.22 -0.22 -0.55 -0.86 -0.99 -0.99 -0.86 -0.55 -0.22\u001b[31m     0\u001b[0m\u001b[31m     0\u001b[0m \n",
      "\u001b[31m     0\u001b[0m\u001b[31m     0\u001b[0m  0.22  0.55  0.86  0.99  0.99  0.86  0.55  0.22 -0.22 -0.55 -0.86 -0.99 -0.99 -0.86 -0.55 -0.22\u001b[31m     0\u001b[0m\u001b[31m     0\u001b[0m \n",
      "\u001b[31m     0\u001b[0m\u001b[31m     0\u001b[0m  0.22  0.55  0.86  0.99  0.99  0.86  0.55  0.22 -0.22 -0.55 -0.86 -0.99 -0.99 -0.86 -0.55 -0.22\u001b[31m     0\u001b[0m\u001b[31m     0\u001b[0m \n",
      "\u001b[31m     0\u001b[0m\u001b[31m     0\u001b[0m  0.22  0.55  0.86  0.99  0.99  0.86  0.55  0.22 -0.22 -0.55 -0.86 -0.99 -0.99 -0.86 -0.55 -0.22\u001b[31m     0\u001b[0m\u001b[31m     0\u001b[0m \n",
      "\u001b[31m     0\u001b[0m\u001b[31m     0\u001b[0m  0.22  0.55  0.86  0.99  0.99  0.86  0.55  0.22 -0.22 -0.55 -0.86 -0.99 -0.99 -0.86 -0.55 -0.22\u001b[31m     0\u001b[0m\u001b[31m     0\u001b[0m \n",
      "\u001b[31m     0\u001b[0m\u001b[31m     0\u001b[0m  0.22  0.55  0.86  0.99  0.99  0.86  0.55  0.22 -0.22 -0.55 -0.86 -0.99 -0.99 -0.86 -0.55 -0.22\u001b[31m     0\u001b[0m\u001b[31m     0\u001b[0m \n",
      "\u001b[31m     0\u001b[0m\u001b[31m     0\u001b[0m  0.22  0.55  0.86  0.99  0.99  0.86  0.55  0.22 -0.22 -0.55 -0.86 -0.99 -0.99 -0.86 -0.55 -0.22\u001b[31m     0\u001b[0m\u001b[31m     0\u001b[0m \n",
      "\u001b[31m     0\u001b[0m\u001b[31m     0\u001b[0m  0.22  0.55  0.86  0.99  0.99  0.86  0.55  0.22 -0.22 -0.55 -0.86 -0.99 -0.99 -0.86 -0.55 -0.22\u001b[31m     0\u001b[0m\u001b[31m     0\u001b[0m \n",
      "\u001b[31m     0\u001b[0m\u001b[31m     0\u001b[0m  0.22  0.55  0.86  0.99  0.99  0.86  0.55  0.22 -0.22 -0.55 -0.86 -0.99 -0.99 -0.86 -0.55 -0.22\u001b[31m     0\u001b[0m\u001b[31m     0\u001b[0m \n",
      "\u001b[31m     0\u001b[0m\u001b[31m     0\u001b[0m  0.22  0.55  0.86  0.99  0.99  0.86  0.55  0.22 -0.22 -0.55 -0.86 -0.99 -0.99 -0.86 -0.55 -0.22\u001b[31m     0\u001b[0m\u001b[31m     0\u001b[0m \n",
      "\u001b[31m     0\u001b[0m\u001b[31m     0\u001b[0m  0.22  0.55  0.86  0.99  0.99  0.86  0.55  0.22 -0.22 -0.55 -0.86 -0.99 -0.99 -0.86 -0.55 -0.22\u001b[31m     0\u001b[0m\u001b[31m     0\u001b[0m \n",
      "\u001b[31m     0\u001b[0m\u001b[31m     0\u001b[0m  0.22  0.55  0.86  0.99  0.99  0.86  0.55  0.22 -0.22 -0.55 -0.86 -0.99 -0.99 -0.86 -0.55 -0.22\u001b[31m     0\u001b[0m\u001b[31m     0\u001b[0m \n",
      "\u001b[31m     0\u001b[0m\u001b[31m     0\u001b[0m  0.22  0.55  0.86  0.99  0.99  0.86  0.55  0.22 -0.22 -0.55 -0.86 -0.99 -0.99 -0.86 -0.55 -0.22\u001b[31m     0\u001b[0m\u001b[31m     0\u001b[0m \n",
      "\u001b[31m     0\u001b[0m\u001b[31m     0\u001b[0m  0.22  0.55  0.86  0.99  0.99  0.86  0.55  0.22 -0.22 -0.55 -0.86 -0.99 -0.99 -0.86 -0.55 -0.22\u001b[31m     0\u001b[0m\u001b[31m     0\u001b[0m \n",
      "\u001b[31m     0\u001b[0m\u001b[31m     0\u001b[0m\u001b[31m     0\u001b[0m\u001b[31m     0\u001b[0m\u001b[31m     0\u001b[0m\u001b[31m     0\u001b[0m\u001b[31m     0\u001b[0m\u001b[31m     0\u001b[0m\u001b[31m     0\u001b[0m\u001b[31m     0\u001b[0m\u001b[31m     0\u001b[0m\u001b[31m     0\u001b[0m\u001b[31m     0\u001b[0m\u001b[31m     0\u001b[0m\u001b[31m     0\u001b[0m\u001b[31m     0\u001b[0m\u001b[31m     0\u001b[0m\u001b[31m     0\u001b[0m\u001b[31m     0\u001b[0m\u001b[31m     0\u001b[0m \n",
      "\u001b[31m     0\u001b[0m\u001b[31m     0\u001b[0m\u001b[31m     0\u001b[0m\u001b[31m     0\u001b[0m\u001b[31m     0\u001b[0m\u001b[31m     0\u001b[0m\u001b[31m     0\u001b[0m\u001b[31m     0\u001b[0m\u001b[31m     0\u001b[0m\u001b[31m     0\u001b[0m\u001b[31m     0\u001b[0m\u001b[31m     0\u001b[0m\u001b[31m     0\u001b[0m\u001b[31m     0\u001b[0m\u001b[31m     0\u001b[0m\u001b[31m     0\u001b[0m\u001b[31m     0\u001b[0m\u001b[31m     0\u001b[0m\u001b[31m     0\u001b[0m\u001b[31m     0\u001b[0m \n",
      "\n",
      "         ^ y\n",
      "         |\n",
      "         +---> x\n",
      "        \n"
     ]
    }
   ],
   "source": [
    "f.pretty_print(fmt=\"%6.2g\")"
   ]
  }
 ],
 "metadata": {
  "celltoolbar": "Tags",
  "kernelspec": {
   "display_name": "Python 3",
   "language": "python",
   "name": "python3"
  },
  "language_info": {
   "codemirror_mode": {
    "name": "ipython",
    "version": 3
   },
   "file_extension": ".py",
   "mimetype": "text/x-python",
   "name": "python",
   "nbconvert_exporter": "python",
   "pygments_lexer": "ipython3",
   "version": "3.6.6"
  }
 },
 "nbformat": 4,
 "nbformat_minor": 1
}
