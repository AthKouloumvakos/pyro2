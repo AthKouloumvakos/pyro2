{
 "cells": [
  {
   "cell_type": "code",
   "execution_count": 1,
   "metadata": {},
   "outputs": [],
   "source": [
    "import pyro\n",
    "import os\n",
    "pyro_home = os.environ[\"PYRO_HOME\"]"
   ]
  },
  {
   "cell_type": "code",
   "execution_count": 4,
   "metadata": {},
   "outputs": [],
   "source": [
    "solver = \"advection\"\n",
    "problem_name = \"smooth\"\n",
    "param_file = \"inputs.smooth\"\n",
    "other_commands = [\"driver.max_steps=1\"]"
   ]
  },
  {
   "cell_type": "code",
   "execution_count": 5,
   "metadata": {},
   "outputs": [
    {
     "name": "stdout",
     "output_type": "stream",
     "text": [
      "\u001b[1mpyro ...\u001b[0m\n",
      "\u001b[31mERROR: inputs file does not exist\u001b[0m\n",
      "\u001b[33mwarning, key: driver.max_steps not defined\u001b[0m\n",
      "\u001b[33mwarning, key: driver.tmax not defined\u001b[0m\n",
      "\u001b[33mwarning, key: driver.max_dt_change not defined\u001b[0m\n",
      "\u001b[33mwarning, key: driver.init_tstep_factor not defined\u001b[0m\n",
      "\u001b[33mwarning, key: io.basename not defined\u001b[0m\n",
      "\u001b[33mwarning, key: io.dt_out not defined\u001b[0m\n",
      "\u001b[33mwarning, key: mesh.nx not defined\u001b[0m\n",
      "\u001b[33mwarning, key: mesh.ny not defined\u001b[0m\n",
      "\u001b[33mwarning, key: mesh.xmax not defined\u001b[0m\n",
      "\u001b[33mwarning, key: mesh.ymax not defined\u001b[0m\n",
      "\u001b[33mwarning, key: mesh.xlboundary not defined\u001b[0m\n",
      "\u001b[33mwarning, key: mesh.xrboundary not defined\u001b[0m\n",
      "\u001b[33mwarning, key: mesh.ylboundary not defined\u001b[0m\n",
      "\u001b[33mwarning, key: mesh.yrboundary not defined\u001b[0m\n",
      "working on driver.max_steps=1\n",
      "\u001b[33mwarning, key: driver.max_steps not defined\u001b[0m\n"
     ]
    },
    {
     "ename": "KeyError",
     "evalue": "'ERROR: runtime parameter mesh.nx not found'",
     "output_type": "error",
     "traceback": [
      "\u001b[0;31m---------------------------------------------------------------------------\u001b[0m",
      "\u001b[0;31mKeyError\u001b[0m                                  Traceback (most recent call last)",
      "\u001b[0;32m<ipython-input-5-82e038204593>\u001b[0m in \u001b[0;36m<module>\u001b[0;34m()\u001b[0m\n\u001b[0;32m----> 1\u001b[0;31m \u001b[0mpyro\u001b[0m\u001b[0;34m.\u001b[0m\u001b[0mdoit\u001b[0m\u001b[0;34m(\u001b[0m\u001b[0msolver\u001b[0m\u001b[0;34m,\u001b[0m \u001b[0mproblem_name\u001b[0m\u001b[0;34m,\u001b[0m \u001b[0mparam_file\u001b[0m\u001b[0;34m,\u001b[0m \u001b[0mother_commands\u001b[0m\u001b[0;34m=\u001b[0m\u001b[0mother_commands\u001b[0m\u001b[0;34m)\u001b[0m\u001b[0;34m\u001b[0m\u001b[0m\n\u001b[0m",
      "\u001b[0;32m~/development/pyro2/pyro.py\u001b[0m in \u001b[0;36mdoit\u001b[0;34m(solver_name, problem_name, param_file, other_commands, comp_bench, reset_bench_on_fail, make_bench)\u001b[0m\n\u001b[1;32m     66\u001b[0m     \u001b[0msim\u001b[0m \u001b[0;34m=\u001b[0m \u001b[0msolver\u001b[0m\u001b[0;34m.\u001b[0m\u001b[0mSimulation\u001b[0m\u001b[0;34m(\u001b[0m\u001b[0msolver_name\u001b[0m\u001b[0;34m,\u001b[0m \u001b[0mproblem_name\u001b[0m\u001b[0;34m,\u001b[0m \u001b[0mrp\u001b[0m\u001b[0;34m,\u001b[0m \u001b[0mtimers\u001b[0m\u001b[0;34m=\u001b[0m\u001b[0mtc\u001b[0m\u001b[0;34m)\u001b[0m\u001b[0;34m\u001b[0m\u001b[0m\n\u001b[1;32m     67\u001b[0m \u001b[0;34m\u001b[0m\u001b[0m\n\u001b[0;32m---> 68\u001b[0;31m     \u001b[0msim\u001b[0m\u001b[0;34m.\u001b[0m\u001b[0minitialize\u001b[0m\u001b[0;34m(\u001b[0m\u001b[0;34m)\u001b[0m\u001b[0;34m\u001b[0m\u001b[0m\n\u001b[0m\u001b[1;32m     69\u001b[0m     \u001b[0msim\u001b[0m\u001b[0;34m.\u001b[0m\u001b[0mpreevolve\u001b[0m\u001b[0;34m(\u001b[0m\u001b[0;34m)\u001b[0m\u001b[0;34m\u001b[0m\u001b[0m\n\u001b[1;32m     70\u001b[0m \u001b[0;34m\u001b[0m\u001b[0m\n",
      "\u001b[0;32m~/development/pyro2/advection/simulation.py\u001b[0m in \u001b[0;36minitialize\u001b[0;34m(self)\u001b[0m\n\u001b[1;32m     15\u001b[0m         \"\"\"\n\u001b[1;32m     16\u001b[0m \u001b[0;34m\u001b[0m\u001b[0m\n\u001b[0;32m---> 17\u001b[0;31m         \u001b[0mmy_grid\u001b[0m \u001b[0;34m=\u001b[0m \u001b[0mgrid_setup\u001b[0m\u001b[0;34m(\u001b[0m\u001b[0mself\u001b[0m\u001b[0;34m.\u001b[0m\u001b[0mrp\u001b[0m\u001b[0;34m,\u001b[0m \u001b[0mng\u001b[0m\u001b[0;34m=\u001b[0m\u001b[0;36m4\u001b[0m\u001b[0;34m)\u001b[0m\u001b[0;34m\u001b[0m\u001b[0m\n\u001b[0m\u001b[1;32m     18\u001b[0m \u001b[0;34m\u001b[0m\u001b[0m\n\u001b[1;32m     19\u001b[0m         \u001b[0;31m# create the variables\u001b[0m\u001b[0;34m\u001b[0m\u001b[0;34m\u001b[0m\u001b[0m\n",
      "\u001b[0;32m~/development/pyro2/simulation_null.py\u001b[0m in \u001b[0;36mgrid_setup\u001b[0;34m(rp, ng)\u001b[0m\n\u001b[1;32m      6\u001b[0m \u001b[0;34m\u001b[0m\u001b[0m\n\u001b[1;32m      7\u001b[0m \u001b[0;32mdef\u001b[0m \u001b[0mgrid_setup\u001b[0m\u001b[0;34m(\u001b[0m\u001b[0mrp\u001b[0m\u001b[0;34m,\u001b[0m \u001b[0mng\u001b[0m\u001b[0;34m=\u001b[0m\u001b[0;36m1\u001b[0m\u001b[0;34m)\u001b[0m\u001b[0;34m:\u001b[0m\u001b[0;34m\u001b[0m\u001b[0m\n\u001b[0;32m----> 8\u001b[0;31m     \u001b[0mnx\u001b[0m \u001b[0;34m=\u001b[0m \u001b[0mrp\u001b[0m\u001b[0;34m.\u001b[0m\u001b[0mget_param\u001b[0m\u001b[0;34m(\u001b[0m\u001b[0;34m\"mesh.nx\"\u001b[0m\u001b[0;34m)\u001b[0m\u001b[0;34m\u001b[0m\u001b[0m\n\u001b[0m\u001b[1;32m      9\u001b[0m     \u001b[0mny\u001b[0m \u001b[0;34m=\u001b[0m \u001b[0mrp\u001b[0m\u001b[0;34m.\u001b[0m\u001b[0mget_param\u001b[0m\u001b[0;34m(\u001b[0m\u001b[0;34m\"mesh.ny\"\u001b[0m\u001b[0;34m)\u001b[0m\u001b[0;34m\u001b[0m\u001b[0m\n\u001b[1;32m     10\u001b[0m \u001b[0;34m\u001b[0m\u001b[0m\n",
      "\u001b[0;32m~/development/pyro2/util/runparams.py\u001b[0m in \u001b[0;36mget_param\u001b[0;34m(self, key)\u001b[0m\n\u001b[1;32m    212\u001b[0m             \u001b[0;32mreturn\u001b[0m \u001b[0mself\u001b[0m\u001b[0;34m.\u001b[0m\u001b[0mparams\u001b[0m\u001b[0;34m[\u001b[0m\u001b[0mkey\u001b[0m\u001b[0;34m]\u001b[0m\u001b[0;34m\u001b[0m\u001b[0m\n\u001b[1;32m    213\u001b[0m         \u001b[0;32melse\u001b[0m\u001b[0;34m:\u001b[0m\u001b[0;34m\u001b[0m\u001b[0m\n\u001b[0;32m--> 214\u001b[0;31m             \u001b[0;32mraise\u001b[0m \u001b[0mKeyError\u001b[0m\u001b[0;34m(\u001b[0m\u001b[0;34m\"ERROR: runtime parameter {} not found\"\u001b[0m\u001b[0;34m.\u001b[0m\u001b[0mformat\u001b[0m\u001b[0;34m(\u001b[0m\u001b[0mkey\u001b[0m\u001b[0;34m)\u001b[0m\u001b[0;34m)\u001b[0m\u001b[0;34m\u001b[0m\u001b[0m\n\u001b[0m\u001b[1;32m    215\u001b[0m \u001b[0;34m\u001b[0m\u001b[0m\n\u001b[1;32m    216\u001b[0m \u001b[0;34m\u001b[0m\u001b[0m\n",
      "\u001b[0;31mKeyError\u001b[0m: 'ERROR: runtime parameter mesh.nx not found'"
     ]
    }
   ],
   "source": [
    "pyro.doit(solver, problem_name, param_file, other_commands=other_commands)"
   ]
  },
  {
   "cell_type": "code",
   "execution_count": null,
   "metadata": {},
   "outputs": [],
   "source": []
  }
 ],
 "metadata": {
  "kernelspec": {
   "display_name": "Python 3",
   "language": "python",
   "name": "python3"
  },
  "language_info": {
   "codemirror_mode": {
    "name": "ipython",
    "version": 3
   },
   "file_extension": ".py",
   "mimetype": "text/x-python",
   "name": "python",
   "nbconvert_exporter": "python",
   "pygments_lexer": "ipython3",
   "version": "3.6.4"
  }
 },
 "nbformat": 4,
 "nbformat_minor": 2
}
