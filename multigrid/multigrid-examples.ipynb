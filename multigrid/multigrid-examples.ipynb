{
 "metadata": {
  "name": "multigrid-examples"
 },
 "nbformat": 3,
 "nbformat_minor": 0,
 "worksheets": [
  {
   "cells": [
    {
     "cell_type": "code",
     "collapsed": false,
     "input": [
      "from __future__ import print_function\n",
      "\n",
      "import numpy as np\n",
      "\n",
      "import mesh.patch as patch\n",
      "import multigrid.MG as MG"
     ],
     "language": "python",
     "metadata": {},
     "outputs": [
      {
       "ename": "ImportError",
       "evalue": "No module named MG",
       "output_type": "pyerr",
       "traceback": [
        "\u001b[1;31m---------------------------------------------------------------------------\u001b[0m\n\u001b[1;31mImportError\u001b[0m                               Traceback (most recent call last)",
        "\u001b[1;32m<ipython-input-8-68613611740b>\u001b[0m in \u001b[0;36m<module>\u001b[1;34m()\u001b[0m\n\u001b[0;32m      4\u001b[0m \u001b[1;33m\u001b[0m\u001b[0m\n\u001b[0;32m      5\u001b[0m \u001b[1;32mimport\u001b[0m \u001b[0mmesh\u001b[0m\u001b[1;33m.\u001b[0m\u001b[0mpatch\u001b[0m \u001b[1;32mas\u001b[0m \u001b[0mpatch\u001b[0m\u001b[1;33m\u001b[0m\u001b[0m\n\u001b[1;32m----> 6\u001b[1;33m \u001b[1;32mimport\u001b[0m \u001b[0mmultigrid\u001b[0m\u001b[1;33m.\u001b[0m\u001b[0mMG\u001b[0m \u001b[1;32mas\u001b[0m \u001b[0mMG\u001b[0m\u001b[1;33m\u001b[0m\u001b[0m\n\u001b[0m",
        "\u001b[1;31mImportError\u001b[0m: No module named MG"
       ]
      }
     ],
     "prompt_number": 8
    },
    {
     "cell_type": "markdown",
     "metadata": {},
     "source": [
      "We want to solve $\\phi_{xx} + \\phi_{yy} = -2[(1-6x^2)y^2(1-y^2) + (1-6y^2)x^2(1-x^2)]$ on $[0,1]\\times[0,1]$ with homogeneous Dirichlet boundary conditions (this example comes from \"A Multigrid Tutorial\")."
     ]
    },
    {
     "cell_type": "code",
     "collapsed": false,
     "input": [
      "nx = ny = 256\n",
      "mg = MG.CellCenterMG2d(nx, ny, \n",
      "                       xl_BC_type=\"dirichlet\", xr_BC_type=\"dirichlet\",\n",
      "                       yl_BC_type=\"dirichlet\", yr_BC_type=\"dirichlet\", verbose=1)"
     ],
     "language": "python",
     "metadata": {},
     "outputs": [
      {
       "ename": "NameError",
       "evalue": "name 'multigrid' is not defined",
       "output_type": "pyerr",
       "traceback": [
        "\u001b[1;31m---------------------------------------------------------------------------\u001b[0m\n\u001b[1;31mNameError\u001b[0m                                 Traceback (most recent call last)",
        "\u001b[1;32m<ipython-input-6-219f7218ffd7>\u001b[0m in \u001b[0;36m<module>\u001b[1;34m()\u001b[0m\n\u001b[0;32m      1\u001b[0m \u001b[0mnx\u001b[0m \u001b[1;33m=\u001b[0m \u001b[0mny\u001b[0m \u001b[1;33m=\u001b[0m \u001b[1;36m256\u001b[0m\u001b[1;33m\u001b[0m\u001b[0m\n\u001b[1;32m----> 2\u001b[1;33m mg = multigrid.CellCenterMG2d(nx, ny, \n\u001b[0m\u001b[0;32m      3\u001b[0m                               \u001b[0mxl_BC_type\u001b[0m\u001b[1;33m=\u001b[0m\u001b[1;34m\"dirichlet\"\u001b[0m\u001b[1;33m,\u001b[0m \u001b[0mxr_BC_type\u001b[0m\u001b[1;33m=\u001b[0m\u001b[1;34m\"dirichlet\"\u001b[0m\u001b[1;33m,\u001b[0m\u001b[1;33m\u001b[0m\u001b[0m\n\u001b[0;32m      4\u001b[0m                               yl_BC_type=\"dirichlet\", yr_BC_type=\"dirichlet\", verbose=1)\n",
        "\u001b[1;31mNameError\u001b[0m: name 'multigrid' is not defined"
       ]
      }
     ],
     "prompt_number": 6
    },
    {
     "cell_type": "raw",
     "metadata": {},
     "source": [
      "initialize the solution to zero and set the RHS.  To make life easier, the CellCenterMG2d object has the coordinates of the solution grid (including ghost cells) as mg.x2d and mg.y2d (these are two-dimensional arrays)."
     ]
    },
    {
     "cell_type": "code",
     "collapsed": false,
     "input": [
      "def rhs(x, y):\n",
      "    return -2.0*((1.0-6.0*x**2)*y**2*(1.0-y**2) + (1.0-6.0*y**2)*x**2*(1.0-x**2))\n",
      "\n",
      "mg.init_RHS(f(mg.x2d, mg.y2d))\n",
      "mg.init_zeros()"
     ],
     "language": "python",
     "metadata": {},
     "outputs": []
    },
    {
     "cell_type": "raw",
     "metadata": {},
     "source": [
      "we can now solve -- there are actually two different techniques we can do here.  We can just do pure smoothing on the solution grid using mg.smooth(mg.nlevels-1, N), where N is the number of smoothing iterations.  To get the solution N will need to be large and this will take a long time.\n",
      "\n",
      "Alternately, we can do a V-cycle multigrid solution using mg.solve()"
     ]
    },
    {
     "cell_type": "code",
     "collapsed": false,
     "input": [
      "mg.solve()"
     ],
     "language": "python",
     "metadata": {},
     "outputs": [
      {
       "ename": "NameError",
       "evalue": "name 'mg' is not defined",
       "output_type": "pyerr",
       "traceback": [
        "\u001b[1;31m---------------------------------------------------------------------------\u001b[0m\n\u001b[1;31mNameError\u001b[0m                                 Traceback (most recent call last)",
        "\u001b[1;32m<ipython-input-7-7df1ab60aba4>\u001b[0m in \u001b[0;36m<module>\u001b[1;34m()\u001b[0m\n\u001b[1;32m----> 1\u001b[1;33m \u001b[0mmg\u001b[0m\u001b[1;33m.\u001b[0m\u001b[0msolve\u001b[0m\u001b[1;33m(\u001b[0m\u001b[1;33m)\u001b[0m\u001b[1;33m\u001b[0m\u001b[0m\n\u001b[0m",
        "\u001b[1;31mNameError\u001b[0m: name 'mg' is not defined"
       ]
      }
     ],
     "prompt_number": 7
    },
    {
     "cell_type": "code",
     "collapsed": false,
     "input": [],
     "language": "python",
     "metadata": {},
     "outputs": []
    }
   ],
   "metadata": {}
  }
 ]
}