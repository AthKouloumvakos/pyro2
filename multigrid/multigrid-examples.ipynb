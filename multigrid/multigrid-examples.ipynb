{
 "metadata": {
  "name": "multigrid-examples"
 },
 "nbformat": 3,
 "nbformat_minor": 0,
 "worksheets": [
  {
   "cells": [
    {
     "cell_type": "code",
     "collapsed": false,
     "input": [
      "from __future__ import print_function\n",
      "\n",
      "import numpy as np\n",
      "\n",
      "import mesh.patch as patch\n",
      "import multigrid.multigrid as multigrid"
     ],
     "language": "python",
     "metadata": {},
     "outputs": [],
     "prompt_number": 1
    },
    {
     "cell_type": "markdown",
     "metadata": {},
     "source": [
      "We want to solve $\\phi_{xx} + \\phi_{yy} = -2[(1-6x^2)y^2(1-y^2) + (1-6y^2)x^2(1-x^2)]$ on $[0,1]\\times[0,1]$ with homogeneous Dirichlet boundary conditions (this example comes from \"A Multigrid Tutorial\")."
     ]
    },
    {
     "cell_type": "code",
     "collapsed": false,
     "input": [
      "nx = ny = 256\n",
      "mg = multigrid.CellCenterMG2d(nx, ny, \n",
      "                              xl_BC_type=\"dirichlet\", xr_BC_type=\"dirichlet\", \n",
      "                              yl_BC_type=\"dirichlet\", yr_BC_type=\"dirichlet\", verbose=1)"
     ],
     "language": "python",
     "metadata": {},
     "outputs": [
      {
       "output_type": "stream",
       "stream": "stdout",
       "text": [
        "alpha =  0.0\n",
        "beta  =  -1.0\n",
        "cc data: nx = 2, ny = 2, ng = 1\n",
        "   nvars = 3\n",
        "   variables: \n",
        "               v: min:    0.0000000000    max:    0.0000000000\n",
        "                  BCs: -x: dirichlet    +x: dirichlet    -y: dirichlet    +y: dirichlet   \n",
        "               f: min:    0.0000000000    max:    0.0000000000\n",
        "                  BCs: -x: dirichlet    +x: dirichlet    -y: dirichlet    +y: dirichlet   \n",
        "               r: min:    0.0000000000    max:    0.0000000000\n",
        "                  BCs: -x: dirichlet    +x: dirichlet    -y: dirichlet    +y: dirichlet   \n",
        "\n",
        "cc data: nx = 4, ny = 4, ng = 1\n",
        "   nvars = 3\n",
        "   variables: \n",
        "               v: min:    0.0000000000    max:    0.0000000000\n",
        "                  BCs: -x: dirichlet    +x: dirichlet    -y: dirichlet    +y: dirichlet   \n",
        "               f: min:    0.0000000000    max:    0.0000000000\n",
        "                  BCs: -x: dirichlet    +x: dirichlet    -y: dirichlet    +y: dirichlet   \n",
        "               r: min:    0.0000000000    max:    0.0000000000\n",
        "                  BCs: -x: dirichlet    +x: dirichlet    -y: dirichlet    +y: dirichlet   \n",
        "\n",
        "cc data: nx = 8, ny = 8, ng = 1\n",
        "   nvars = 3\n",
        "   variables: \n",
        "               v: min:    0.0000000000    max:    0.0000000000\n",
        "                  BCs: -x: dirichlet    +x: dirichlet    -y: dirichlet    +y: dirichlet   \n",
        "               f: min:    0.0000000000    max:    0.0000000000\n",
        "                  BCs: -x: dirichlet    +x: dirichlet    -y: dirichlet    +y: dirichlet   \n",
        "               r: min:    0.0000000000    max:    0.0000000000\n",
        "                  BCs: -x: dirichlet    +x: dirichlet    -y: dirichlet    +y: dirichlet   \n",
        "\n",
        "cc data: nx = 16, ny = 16, ng = 1\n",
        "   nvars = 3\n",
        "   variables: \n",
        "               v: min:    0.0000000000    max:    0.0000000000\n",
        "                  BCs: -x: dirichlet    +x: dirichlet    -y: dirichlet    +y: dirichlet   \n",
        "               f: min:    0.0000000000    max:    0.0000000000\n",
        "                  BCs: -x: dirichlet    +x: dirichlet    -y: dirichlet    +y: dirichlet   \n",
        "               r: min:    0.0000000000    max:    0.0000000000\n",
        "                  BCs: -x: dirichlet    +x: dirichlet    -y: dirichlet    +y: dirichlet   \n",
        "\n",
        "cc data: nx = 32, ny = 32, ng = 1\n",
        "   nvars = 3\n",
        "   variables: \n",
        "               v: min:    0.0000000000    max:    0.0000000000\n",
        "                  BCs: -x: dirichlet    +x: dirichlet    -y: dirichlet    +y: dirichlet   \n",
        "               f: min:    0.0000000000    max:    0.0000000000\n",
        "                  BCs: -x: dirichlet    +x: dirichlet    -y: dirichlet    +y: dirichlet   \n",
        "               r: min:    0.0000000000    max:    0.0000000000\n",
        "                  BCs: -x: dirichlet    +x: dirichlet    -y: dirichlet    +y: dirichlet   \n",
        "\n",
        "cc data: nx = 64, ny = 64, ng = 1\n",
        "   nvars = 3\n",
        "   variables: \n",
        "               v: min:    0.0000000000    max:    0.0000000000\n",
        "                  BCs: -x: dirichlet    +x: dirichlet    -y: dirichlet    +y: dirichlet   \n",
        "               f: min:    0.0000000000    max:    0.0000000000\n",
        "                  BCs: -x: dirichlet    +x: dirichlet    -y: dirichlet    +y: dirichlet   \n",
        "               r: min:    0.0000000000    max:    0.0000000000\n",
        "                  BCs: -x: dirichlet    +x: dirichlet    -y: dirichlet    +y: dirichlet   \n",
        "\n",
        "cc data: nx = 128, ny = 128, ng = 1\n",
        "   nvars = 3\n",
        "   variables: \n",
        "               v: min:    0.0000000000    max:    0.0000000000\n",
        "                  BCs: -x: dirichlet    +x: dirichlet    -y: dirichlet    +y: dirichlet   \n",
        "               f: min:    0.0000000000    max:    0.0000000000\n",
        "                  BCs: -x: dirichlet    +x: dirichlet    -y: dirichlet    +y: dirichlet   \n",
        "               r: min:    0.0000000000    max:    0.0000000000\n",
        "                  BCs: -x: dirichlet    +x: dirichlet    -y: dirichlet    +y: dirichlet   \n",
        "\n",
        "cc data: nx = 256, ny = 256, ng = 1\n",
        "   nvars = 3\n",
        "   variables: \n",
        "               v: min:    0.0000000000    max:    0.0000000000\n",
        "                  BCs: -x: dirichlet    +x: dirichlet    -y: dirichlet    +y: dirichlet   \n",
        "               f: min:    0.0000000000    max:    0.0000000000\n",
        "                  BCs: -x: dirichlet    +x: dirichlet    -y: dirichlet    +y: dirichlet   \n",
        "               r: min:    0.0000000000    max:    0.0000000000\n",
        "                  BCs: -x: dirichlet    +x: dirichlet    -y: dirichlet    +y: dirichlet   \n",
        "\n"
       ]
      }
     ],
     "prompt_number": 2
    },
    {
     "cell_type": "code",
     "collapsed": false,
     "input": [],
     "language": "python",
     "metadata": {},
     "outputs": []
    }
   ],
   "metadata": {}
  }
 ]
}