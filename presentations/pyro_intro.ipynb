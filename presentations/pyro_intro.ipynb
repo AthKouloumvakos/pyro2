{
 "cells": [
  {
   "cell_type": "markdown",
   "metadata": {
    "slideshow": {
     "slide_type": "slide"
    }
   },
   "source": [
    "# Introduction to Pyro\n",
    "\n",
    "![logo](pyro_plots.png)\n",
    "\n",
    "Michael Zingale\n",
    "Stony Brook University"
   ]
  },
  {
   "cell_type": "markdown",
   "metadata": {
    "slideshow": {
     "slide_type": "slide"
    }
   },
   "source": [
    "## Why pyro?\n",
    "\n",
    "  * Python is a good introductory language&mdash;it helps make the way these algorithms work clearer\n",
    "\n",
    "  * High level introduction to core hydro algorithms for students\n",
    "  \n",
    "    * Supplemented with extensive notes deriving the methods ( https://github.com/Open-Astrophysics-Bookshelf/numerical_exercises)\n",
    "    \n",
    "  * Enables easy ability to rapidly prototype code&mdash;core intrastructure is in place\n",
    "  \n",
    "  * Allows for sharing exploration in Jupyter notebooks"
   ]
  },
  {
   "cell_type": "markdown",
   "metadata": {
    "slideshow": {
     "slide_type": "slide"
    }
   },
   "source": [
    "## Design ideas:\n",
    "\n",
    "  * Single driver implements core evolution\n",
    "  \n",
    "  * Clarity is emphasized over performance\n",
    "  \n",
    "  * Object-oriented structure: each solver provides a simulation class to manage the different parts of the update\n",
    "  \n",
    "  * All solvers are 2-d: right balance of complexity and usefulness\n",
    "  \n",
    "  * Realtime visualization when run in commandline mode"
   ]
  },
  {
   "cell_type": "markdown",
   "metadata": {
    "slideshow": {
     "slide_type": "slide"
    }
   },
   "source": [
    "## History:\n",
    "\n",
    "  * First version in 2003: python + Numeric + C extensions\n",
    "  \n",
    "  * May 2004: switch to python + numarray + C extensions\n",
    "  \n",
    "    cvs commit:\n",
    "  \n",
    "    > convert from Numeric to numarray, since numarray seems to be the future.\n",
    "        \n",
    "  * May 2012: revived, rewritten in python + NumPy + f2py\n",
    "  \n",
    "  * Nov 2018: python + NumPy + Numba"
   ]
  },
  {
   "cell_type": "markdown",
   "metadata": {
    "slideshow": {
     "slide_type": "slide"
    }
   },
   "source": [
    "## Current Solvers\n",
    "\n",
    "  * linear advection (2nd and 4th order FV, WENO; CTU, RK, and SDC time integration)\n",
    "  \n",
    "  * compressible hydrodynamics (2nd order CTU PLM, 2nd order MOL RK, 4th order FV solver with RK or SDC integration)\n",
    "  \n",
    "  * shallow water hydrodynamics\n",
    "  \n",
    "  * multigrid\n",
    "  \n",
    "  * implicit thermal diffusion\n",
    "  \n",
    "  * incompressible hydrodynamics\n",
    "  \n",
    "  * low Mach number atmospheric hydrodynamics (pseudo-imcompressible method)\n",
    "  \n",
    "  * special relativistic compressible hydrodynamics"
   ]
  },
  {
   "cell_type": "markdown",
   "metadata": {
    "slideshow": {
     "slide_type": "slide"
    }
   },
   "source": [
    "## Main driver:\n",
    "\n",
    "* parse runtime parameters\n",
    "\n",
    "* setup the grid (``initialize()`` function from the solver)\n",
    "\n",
    "  * initialize the data for the desired problem (``init_data()`` function from the problem)\n",
    "\n",
    "* do any necessary pre-evolution initialization (``preevolve()`` function from the solver)\n",
    "\n",
    "* evolve while t < tmax and n < max_steps\n",
    "\n",
    "  * fill boundary conditions (``fill_BC_all()`` method of the ``CellCenterData2d`` class)\n",
    "  * get the timestep (``compute_timestep()`` calls the solver's ``method_compute_timestep()`` function from the solver)\n",
    "  * evolve for a single timestep (``evolve()`` function from the solver)\n",
    "  * t = t + dt\n",
    "  * output (``write()`` method of the ``CellCenterData2d`` class)\n",
    "  * visualization (``dovis()`` function from the solver)\n",
    "\n",
    "* call the solver's ``finalize()`` function to output any useful information at the end\n",
    "\n",
    "<div class=\"alert alert-block alert-info\">\n",
    "&nbsp;This driver is flexible enough for all of the time-dependent solvers\n",
    "</div>"
   ]
  },
  {
   "cell_type": "markdown",
   "metadata": {
    "slideshow": {
     "slide_type": "slide"
    }
   },
   "source": [
    "## Example: advection"
   ]
  },
  {
   "cell_type": "code",
   "execution_count": 1,
   "metadata": {
    "slideshow": {
     "slide_type": "fragment"
    }
   },
   "outputs": [
    {
     "name": "stdout",
     "output_type": "stream",
     "text": [
      "\u001b[1mpyro ...\u001b[0m\n",
      "\u001b[1minitializing the tophat advection problem...\u001b[0m\n",
      "    1    0.10000    0.10000\n",
      "\u001b[33moutputting...\u001b[0m\n",
      "    2    0.20000    0.10000\n",
      "\u001b[33moutputting...\u001b[0m\n",
      "    3    0.30000    0.10000\n",
      "\u001b[33moutputting...\u001b[0m\n",
      "    4    0.40000    0.10000\n",
      "\u001b[33moutputting...\u001b[0m\n",
      "    5    0.50000    0.10000\n",
      "\u001b[33moutputting...\u001b[0m\n",
      "    6    0.60000    0.10000\n",
      "    7    0.70000    0.10000\n",
      "\u001b[33moutputting...\u001b[0m\n",
      "    8    0.80000    0.10000\n",
      "\u001b[33moutputting...\u001b[0m\n",
      "    9    0.90000    0.10000\n",
      "\u001b[33moutputting...\u001b[0m\n",
      "   10    1.00000    0.10000\n",
      "\u001b[33moutputting...\u001b[0m\n",
      "   11    1.00000    0.00000\n",
      "\u001b[33moutputting...\u001b[0m\n",
      "\u001b[33moutputting...\u001b[0m\n",
      "\u001b[33mparameter vis.store_images never used\u001b[0m\n",
      "\u001b[33mparameter particles.n_particles never used\u001b[0m\n",
      "\u001b[33mparameter particles.particle_generator never used\u001b[0m\n",
      "main:  0.11043357849121094\n"
     ]
    },
    {
     "data": {
      "text/plain": [
       "<advection.simulation.Simulation at 0x7fd17bd4f610>"
      ]
     },
     "execution_count": 1,
     "metadata": {},
     "output_type": "execute_result"
    }
   ],
   "source": [
    "from pyro import Pyro\n",
    "pyro_sim = Pyro(\"advection\")\n",
    "pyro_sim.initialize_problem(\"tophat\", \"inputs.tophat\",\n",
    "                            other_commands=[\"mesh.nx=8\", \"mesh.ny=8\",\n",
    "                                            \"vis.dovis=0\"])\n",
    "pyro_sim.run_sim()"
   ]
  },
  {
   "cell_type": "markdown",
   "metadata": {
    "slideshow": {
     "slide_type": "slide"
    }
   },
   "source": [
    "## Example: advection"
   ]
  },
  {
   "cell_type": "code",
   "execution_count": 2,
   "metadata": {
    "slideshow": {
     "slide_type": "fragment"
    }
   },
   "outputs": [
    {
     "name": "stdout",
     "output_type": "stream",
     "text": [
      "\u001b[31m  0.48\u001b[0m\u001b[31m  0.16\u001b[0m\u001b[31m  0.01\u001b[0m\u001b[31m -0.00\u001b[0m\u001b[31m -0.00\u001b[0m\u001b[31m  0.02\u001b[0m\u001b[31m  0.23\u001b[0m\u001b[31m  0.48\u001b[0m\u001b[31m  0.48\u001b[0m\u001b[31m  0.16\u001b[0m\u001b[31m  0.01\u001b[0m\u001b[31m -0.00\u001b[0m\u001b[31m -0.00\u001b[0m\u001b[31m  0.02\u001b[0m\u001b[31m  0.23\u001b[0m\u001b[31m  0.48\u001b[0m \n",
      "\u001b[31m  0.23\u001b[0m\u001b[31m  0.05\u001b[0m\u001b[31m  0.00\u001b[0m\u001b[31m -0.00\u001b[0m\u001b[31m -0.01\u001b[0m\u001b[31m -0.02\u001b[0m\u001b[31m  0.09\u001b[0m\u001b[31m  0.23\u001b[0m\u001b[31m  0.23\u001b[0m\u001b[31m  0.05\u001b[0m\u001b[31m  0.00\u001b[0m\u001b[31m -0.00\u001b[0m\u001b[31m -0.01\u001b[0m\u001b[31m -0.02\u001b[0m\u001b[31m  0.09\u001b[0m\u001b[31m  0.23\u001b[0m \n",
      "\u001b[31m  0.04\u001b[0m\u001b[31m  0.01\u001b[0m\u001b[31m  0.00\u001b[0m\u001b[31m  0.00\u001b[0m\u001b[31m -0.01\u001b[0m\u001b[31m -0.02\u001b[0m\u001b[31m -0.02\u001b[0m\u001b[31m  0.02\u001b[0m\u001b[31m  0.04\u001b[0m\u001b[31m  0.01\u001b[0m\u001b[31m  0.00\u001b[0m\u001b[31m  0.00\u001b[0m\u001b[31m -0.01\u001b[0m\u001b[31m -0.02\u001b[0m\u001b[31m -0.02\u001b[0m\u001b[31m  0.02\u001b[0m \n",
      "\u001b[31m  0.00\u001b[0m\u001b[31m  0.00\u001b[0m\u001b[31m  0.00\u001b[0m\u001b[31m  0.00\u001b[0m\u001b[31m  0.00\u001b[0m\u001b[31m -0.01\u001b[0m\u001b[31m -0.01\u001b[0m\u001b[31m -0.00\u001b[0m\u001b[31m  0.00\u001b[0m\u001b[31m  0.00\u001b[0m\u001b[31m  0.00\u001b[0m\u001b[31m  0.00\u001b[0m\u001b[31m  0.00\u001b[0m\u001b[31m -0.01\u001b[0m\u001b[31m -0.01\u001b[0m\u001b[31m -0.00\u001b[0m \n",
      "\u001b[31m  0.00\u001b[0m\u001b[31m  0.00\u001b[0m\u001b[31m -0.00\u001b[0m\u001b[31m  0.00\u001b[0m  0.00  0.00 -0.00 -0.00  0.00  0.00 -0.00  0.00\u001b[31m  0.00\u001b[0m\u001b[31m  0.00\u001b[0m\u001b[31m -0.00\u001b[0m\u001b[31m -0.00\u001b[0m \n",
      "\u001b[31m  0.02\u001b[0m\u001b[31m  0.02\u001b[0m\u001b[31m  0.00\u001b[0m\u001b[31m -0.00\u001b[0m  0.00  0.00  0.00  0.01  0.02  0.02  0.00 -0.00\u001b[31m  0.00\u001b[0m\u001b[31m  0.00\u001b[0m\u001b[31m  0.00\u001b[0m\u001b[31m  0.01\u001b[0m \n",
      "\u001b[31m  0.20\u001b[0m\u001b[31m  0.12\u001b[0m\u001b[31m  0.02\u001b[0m\u001b[31m  0.00\u001b[0m  0.00  0.01  0.05  0.16  0.20  0.12  0.02  0.00\u001b[31m  0.00\u001b[0m\u001b[31m  0.01\u001b[0m\u001b[31m  0.05\u001b[0m\u001b[31m  0.16\u001b[0m \n",
      "\u001b[31m  0.49\u001b[0m\u001b[31m  0.20\u001b[0m\u001b[31m  0.02\u001b[0m\u001b[31m  0.00\u001b[0m  0.00  0.04  0.23  0.48  0.49  0.20  0.02  0.00\u001b[31m  0.00\u001b[0m\u001b[31m  0.04\u001b[0m\u001b[31m  0.23\u001b[0m\u001b[31m  0.48\u001b[0m \n",
      "\u001b[31m  0.48\u001b[0m\u001b[31m  0.16\u001b[0m\u001b[31m  0.01\u001b[0m\u001b[31m -0.00\u001b[0m -0.00  0.02  0.23  0.48  0.48  0.16  0.01 -0.00\u001b[31m -0.00\u001b[0m\u001b[31m  0.02\u001b[0m\u001b[31m  0.23\u001b[0m\u001b[31m  0.48\u001b[0m \n",
      "\u001b[31m  0.23\u001b[0m\u001b[31m  0.05\u001b[0m\u001b[31m  0.00\u001b[0m\u001b[31m -0.00\u001b[0m -0.01 -0.02  0.09  0.23  0.23  0.05  0.00 -0.00\u001b[31m -0.01\u001b[0m\u001b[31m -0.02\u001b[0m\u001b[31m  0.09\u001b[0m\u001b[31m  0.23\u001b[0m \n",
      "\u001b[31m  0.04\u001b[0m\u001b[31m  0.01\u001b[0m\u001b[31m  0.00\u001b[0m\u001b[31m  0.00\u001b[0m -0.01 -0.02 -0.02  0.02  0.04  0.01  0.00  0.00\u001b[31m -0.01\u001b[0m\u001b[31m -0.02\u001b[0m\u001b[31m -0.02\u001b[0m\u001b[31m  0.02\u001b[0m \n",
      "\u001b[31m  0.00\u001b[0m\u001b[31m  0.00\u001b[0m\u001b[31m  0.00\u001b[0m\u001b[31m  0.00\u001b[0m  0.00 -0.01 -0.01 -0.00  0.00  0.00  0.00  0.00\u001b[31m  0.00\u001b[0m\u001b[31m -0.01\u001b[0m\u001b[31m -0.01\u001b[0m\u001b[31m -0.00\u001b[0m \n",
      "\u001b[31m  0.00\u001b[0m\u001b[31m  0.00\u001b[0m\u001b[31m -0.00\u001b[0m\u001b[31m  0.00\u001b[0m\u001b[31m  0.00\u001b[0m\u001b[31m  0.00\u001b[0m\u001b[31m -0.00\u001b[0m\u001b[31m -0.00\u001b[0m\u001b[31m  0.00\u001b[0m\u001b[31m  0.00\u001b[0m\u001b[31m -0.00\u001b[0m\u001b[31m  0.00\u001b[0m\u001b[31m  0.00\u001b[0m\u001b[31m  0.00\u001b[0m\u001b[31m -0.00\u001b[0m\u001b[31m -0.00\u001b[0m \n",
      "\u001b[31m  0.02\u001b[0m\u001b[31m  0.02\u001b[0m\u001b[31m  0.00\u001b[0m\u001b[31m -0.00\u001b[0m\u001b[31m  0.00\u001b[0m\u001b[31m  0.00\u001b[0m\u001b[31m  0.00\u001b[0m\u001b[31m  0.01\u001b[0m\u001b[31m  0.02\u001b[0m\u001b[31m  0.02\u001b[0m\u001b[31m  0.00\u001b[0m\u001b[31m -0.00\u001b[0m\u001b[31m  0.00\u001b[0m\u001b[31m  0.00\u001b[0m\u001b[31m  0.00\u001b[0m\u001b[31m  0.01\u001b[0m \n",
      "\u001b[31m  0.20\u001b[0m\u001b[31m  0.12\u001b[0m\u001b[31m  0.02\u001b[0m\u001b[31m  0.00\u001b[0m\u001b[31m  0.00\u001b[0m\u001b[31m  0.01\u001b[0m\u001b[31m  0.05\u001b[0m\u001b[31m  0.16\u001b[0m\u001b[31m  0.20\u001b[0m\u001b[31m  0.12\u001b[0m\u001b[31m  0.02\u001b[0m\u001b[31m  0.00\u001b[0m\u001b[31m  0.00\u001b[0m\u001b[31m  0.01\u001b[0m\u001b[31m  0.05\u001b[0m\u001b[31m  0.16\u001b[0m \n",
      "\u001b[31m  0.49\u001b[0m\u001b[31m  0.20\u001b[0m\u001b[31m  0.02\u001b[0m\u001b[31m  0.00\u001b[0m\u001b[31m  0.00\u001b[0m\u001b[31m  0.04\u001b[0m\u001b[31m  0.23\u001b[0m\u001b[31m  0.48\u001b[0m\u001b[31m  0.49\u001b[0m\u001b[31m  0.20\u001b[0m\u001b[31m  0.02\u001b[0m\u001b[31m  0.00\u001b[0m\u001b[31m  0.00\u001b[0m\u001b[31m  0.04\u001b[0m\u001b[31m  0.23\u001b[0m\u001b[31m  0.48\u001b[0m \n",
      "\n",
      "         ^ y\n",
      "         |\n",
      "         +---> x\n",
      "        \n"
     ]
    }
   ],
   "source": [
    "dens = pyro_sim.get_var(\"density\")\n",
    "dens.pretty_print(show_ghost=True, fmt=\"%6.2f\")"
   ]
  },
  {
   "cell_type": "markdown",
   "metadata": {
    "slideshow": {
     "slide_type": "slide"
    }
   },
   "source": [
    "## Example: advection"
   ]
  },
  {
   "cell_type": "code",
   "execution_count": 3,
   "metadata": {
    "slideshow": {
     "slide_type": "fragment"
    }
   },
   "outputs": [
    {
     "data": {
      "image/png": "[encoded data removed]",
      "text/plain": [
       "<Figure size 432x288 with 2 Axes>"
      ]
     },
     "metadata": {
      "needs_background": "light"
     },
     "output_type": "display_data"
    },
    {
     "data": {
      "text/plain": [
       "<Figure size 432x288 with 0 Axes>"
      ]
     },
     "metadata": {},
     "output_type": "display_data"
    }
   ],
   "source": [
    "pyro_sim.sim.dovis()"
   ]
  },
  {
   "cell_type": "markdown",
   "metadata": {
    "slideshow": {
     "slide_type": "slide"
    }
   },
   "source": [
    "## Multigrid\n",
    "\n",
    "![mg](mg_hg.gif)"
   ]
  },
  {
   "cell_type": "code",
   "execution_count": null,
   "metadata": {},
   "outputs": [],
   "source": []
  }
 ],
 "metadata": {
  "kernelspec": {
   "display_name": "Python 3",
   "language": "python",
   "name": "python3"
  },
  "language_info": {
   "codemirror_mode": {
    "name": "ipython",
    "version": 3
   },
   "file_extension": ".py",
   "mimetype": "text/x-python",
   "name": "python",
   "nbconvert_exporter": "python",
   "pygments_lexer": "ipython3",
   "version": "3.7.6"
  }
 },
 "nbformat": 4,
 "nbformat_minor": 4
}
